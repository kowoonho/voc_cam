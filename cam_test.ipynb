{
 "cells": [
  {
   "cell_type": "code",
   "execution_count": 1,
   "metadata": {},
   "outputs": [],
   "source": [
    "import os\n",
    "import voc12.my_dataloader\n",
    "from utility import image_util, util\n",
    "from torch.utils.data import DataLoader\n",
    "import torch\n",
    "from misc import imutils\n",
    "import importlib\n",
    "import torch.nn.functional as F\n",
    "import numpy as np\n",
    "import importlib\n",
    "import voc12.dataloader\n",
    "import importlib\n",
    "from tqdm import tqdm\n",
    "from misc import indexing\n",
    "from PIL import Image"
   ]
  },
  {
   "cell_type": "code",
   "execution_count": 2,
   "metadata": {},
   "outputs": [],
   "source": [
    "crop_cam_weight_name = \"../sess/voc_sess/resnet50_crop_cam\"\n",
    "\n",
    "trainval_list = \"voc12/val.txt\"\n",
    "voc12_root = \"../Dataset/VOC2012/\"\n",
    "cam_root = \"../irn_result/cam/\"\n",
    "cam_scales = (1.0, 1.5, 0.5, 2.0)\n",
    "\n",
    "device = \"cuda:1\""
   ]
  },
  {
   "cell_type": "code",
   "execution_count": 3,
   "metadata": {},
   "outputs": [],
   "source": [
    "model = getattr(importlib.import_module(\"net.resnet50_cam\"), 'CAM')()\n",
    "model.load_state_dict(torch.load(crop_cam_weight_name + '.pth'), strict=True)\n",
    "model.eval()\n",
    "\n",
    "model = model.to(device)"
   ]
  },
  {
   "cell_type": "code",
   "execution_count": 4,
   "metadata": {},
   "outputs": [
    {
     "name": "stderr",
     "output_type": "stream",
     "text": [
      "100%|██████████| 2913/2913 [00:16<00:00, 174.67it/s]\n"
     ]
    }
   ],
   "source": [
    "dataset = voc12.my_dataloader.VOC12_CropClassificationDatasetMSF(trainval_list, voc12_root = voc12_root,\n",
    "                                                          cam_root = cam_root, scales=cam_scales)"
   ]
  },
  {
   "cell_type": "code",
   "execution_count": 7,
   "metadata": {},
   "outputs": [
    {
     "name": "stderr",
     "output_type": "stream",
     "text": [
      "/workspace/voc_cam/misc/imutils.py:177: UserWarning: __floordiv__ is deprecated, and its behavior will change in a future version of pytorch. It currently rounds toward 0 (like the 'trunc' function NOT 'floor'). This results in incorrect rounding for negative values. To keep the current behavior, use torch.div(a, b, rounding_mode='trunc'), or for actual floor division, use torch.div(a, b, rounding_mode='floor').\n",
      "  return ((orig_size[0]-1)//stride+1, (orig_size[1]-1)//stride+1)\n"
     ]
    }
   ],
   "source": [
    "data_loader = DataLoader(dataset, shuffle=False,num_workers=os.cpu_count(), pin_memory=False)\n",
    "\n",
    "\n",
    "with torch.no_grad():\n",
    "\n",
    "    pack = next(iter(data_loader))\n",
    "    img_name = pack['name'][0]\n",
    "    msf = pack['msf_img_list']\n",
    "    org_size = pack['size']\n",
    "    strided_org_size = imutils.get_strided_size(org_size, 4)\n",
    "\n",
    "    org_cam = pack['cam'][0].cpu().numpy()\n",
    "    org_high_res = pack['high_res'][0].cpu().numpy()\n",
    "    crop_labels = pack['crop_labels']\n",
    "    crop_boxes = pack['crop_boxes']\n",
    "    crop_boxes = [tuple(int(t.item()) for t in crop_box) for crop_box in crop_boxes]\n",
    "    \n",
    "    strided_crop_boxes = image_util.resize_bbox_list(crop_boxes, org_size, strided_org_size)\n",
    "    \n",
    "    cam_list = []\n",
    "    highres_cam_list = []\n",
    "\n",
    "    key = torch.sum(torch.cat(crop_labels, dim=0), dim=0)\n",
    "    key = torch.nonzero(key)[:, 0]\n",
    "    for idx, msf_img in enumerate(msf):\n",
    "        \n",
    "        msf_img = msf[idx]\n",
    "        label = crop_labels[idx][0]\n",
    "        \n",
    "        size = (crop_boxes[idx][3] - crop_boxes[idx][1], crop_boxes[idx][2] - crop_boxes[idx][0])\n",
    "        \n",
    "        strided_size = imutils.get_strided_size(size, 4)\n",
    "        strided_up_size = imutils.get_strided_up_size(size, 16)\n",
    "        \n",
    "        valid_cat = torch.nonzero(label)[:, 0]\n",
    "        \n",
    "        outputs = [model(img[0].to(device)) for img in msf_img]\n",
    "        \n",
    "        strided_cam = torch.sum(torch.stack(\n",
    "        [F.interpolate(torch.unsqueeze(o, 0), strided_size, mode='bilinear', align_corners=False)[0] for o\n",
    "            in outputs]), 0)\n",
    "        \n",
    "        highres_cam = [F.interpolate(torch.unsqueeze(o, 1), strided_up_size,\n",
    "                                    mode='bilinear', align_corners=False) for o in outputs]\n",
    "\n",
    "        \n",
    "        highres_cam = torch.sum(torch.stack(highres_cam, 0), 0)[:, 0, :size[0], :size[1]]\n",
    "        \n",
    "        highres_cam = highres_cam[valid_cat]\n",
    "        highres_cam /= F.adaptive_max_pool2d(highres_cam, (1, 1)) + 1e-5\n",
    "        \n",
    "        strided_cam = strided_cam[valid_cat]\n",
    "        strided_cam /= F.adaptive_max_pool2d(strided_cam, (1, 1)) + 1e-5\n",
    "        \n",
    "        strided_cam = strided_cam[0].cpu().numpy()\n",
    "        highres_cam = highres_cam[0].cpu().numpy()\n",
    "\n",
    "        strided_cam = image_util.crop_cam_to_org_cam(strided_cam, strided_crop_boxes[idx], strided_org_size)\n",
    "        highres_cam = image_util.crop_cam_to_org_cam(highres_cam, crop_boxes[idx], org_size)\n",
    "        \n",
    "        cam_list.append(strided_cam)\n",
    "        highres_cam_list.append(highres_cam)\n",
    "    \n",
    "    cam_stack = np.stack(cam_list)\n",
    "    cam_stack = (cam_stack + org_cam) / 2\n",
    "    \n",
    "    highres_cam_stack = np.stack(highres_cam_list)\n",
    "    highres_cam_stack = (highres_cam_stack + org_high_res) / 2\n",
    "    \n",
    "    cam_stack = torch.from_numpy(cam_stack)"
   ]
  },
  {
   "cell_type": "code",
   "execution_count": 10,
   "metadata": {},
   "outputs": [
    {
     "data": {
      "image/png": "[encoded data removed]",
      "text/plain": [
       "<Figure size 432x288 with 1 Axes>"
      ]
     },
     "metadata": {
      "needs_background": "light"
     },
     "output_type": "display_data"
    }
   ],
   "source": [
    "image_util.image_show(highres_cam_stack[1])"
   ]
  },
  {
   "cell_type": "code",
   "execution_count": null,
   "metadata": {},
   "outputs": [],
   "source": []
  }
 ],
 "metadata": {
  "kernelspec": {
   "display_name": "base",
   "language": "python",
   "name": "python3"
  },
  "language_info": {
   "codemirror_mode": {
    "name": "ipython",
    "version": 3
   },
   "file_extension": ".py",
   "mimetype": "text/x-python",
   "name": "python",
   "nbconvert_exporter": "python",
   "pygments_lexer": "ipython3",
   "version": "3.8.12"
  },
  "orig_nbformat": 4
 },
 "nbformat": 4,
 "nbformat_minor": 2
}
