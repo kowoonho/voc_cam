{
 "cells": [
  {
   "cell_type": "code",
   "execution_count": 1,
   "metadata": {},
   "outputs": [],
   "source": [
    "import os\n",
    "import voc12.my_dataloader\n",
    "from utility import image_util, util\n",
    "from torch.utils.data import DataLoader\n",
    "import torch\n",
    "from misc import imutils\n",
    "import importlib\n",
    "import torch.nn.functional as F\n",
    "import numpy as np\n",
    "import importlib\n",
    "import voc12.dataloader\n",
    "import importlib\n",
    "from tqdm import tqdm\n",
    "from misc import indexing\n",
    "from PIL import Image"
   ]
  },
  {
   "cell_type": "code",
   "execution_count": 2,
   "metadata": {},
   "outputs": [],
   "source": [
    "irn_network = \"net.resnet50_irn\"\n",
    "irn_weights_name = \"../sess/voc_sess/resnet50_irn\"\n",
    "\n",
    "device = 'cuda:0'"
   ]
  },
  {
   "cell_type": "code",
   "execution_count": null,
   "metadata": {},
   "outputs": [],
   "source": [
    "model = getattr(importlib.import_module(args.irn_network), 'EdgeDisplacement')()\n",
    "    \n",
    "model.load_state_dict(torch.load(args.irn_weights_name+\".pth\"), strict=False)\n",
    "    \n",
    "model.eval()\n",
    "\n",
    "dataset = voc12.dataloader.VOC12ClassificationDatasetMSF(args.infer_list,\n",
    "                                                            voc12_root=args.voc12_root,\n",
    "                                                            scales=(1.0,))\n",
    "if args.edge:\n",
    "    edge_work(model, dataset, args)\n",
    "else:\n",
    "    _work(model, dataset, args)"
   ]
  }
 ],
 "metadata": {
  "kernelspec": {
   "display_name": "base",
   "language": "python",
   "name": "python3"
  },
  "language_info": {
   "codemirror_mode": {
    "name": "ipython",
    "version": 3
   },
   "file_extension": ".py",
   "mimetype": "text/x-python",
   "name": "python",
   "nbconvert_exporter": "python",
   "pygments_lexer": "ipython3",
   "version": "3.9.13"
  },
  "orig_nbformat": 4
 },
 "nbformat": 4,
 "nbformat_minor": 2
}
