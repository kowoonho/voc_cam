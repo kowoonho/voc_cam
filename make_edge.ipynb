{
 "cells": [
  {
   "cell_type": "code",
   "execution_count": 1,
   "metadata": {},
   "outputs": [],
   "source": [
    "import torch\n",
    "from torch.utils.data import DataLoader\n",
    "import voc12.dataloader\n",
    "from misc import pyutils, torchutils, indexing, imutils\n",
    "import importlib\n",
    "from tqdm import tqdm\n",
    "import cv2\n",
    "import numpy as np\n",
    "import os\n",
    "from utility import image_util, util\n",
    "import torch.nn.functional as F\n"
   ]
  },
  {
   "cell_type": "code",
   "execution_count": 2,
   "metadata": {},
   "outputs": [],
   "source": [
    "infer_list = \"voc12/val.txt\"\n",
    "voc12_root =\"../Dataset/VOC2012/\"\n",
    "depth_root = \"../result/depth_img/\"\n",
    "cam_root = \"../irn_result/cam\"\n",
    "\n",
    "beta = 5\n",
    "exp_times = 10\n",
    "\n",
    "device = 'cuda:0'"
   ]
  },
  {
   "cell_type": "code",
   "execution_count": 3,
   "metadata": {},
   "outputs": [],
   "source": [
    "dataset = voc12.dataloader.VOC12ClassificationDatasetMSF(infer_list,\n",
    "                                                             voc12_root=voc12_root,\n",
    "                                                             scales=(1.0,))"
   ]
  },
  {
   "cell_type": "code",
   "execution_count": 20,
   "metadata": {},
   "outputs": [
    {
     "name": "stdout",
     "output_type": "stream",
     "text": [
      "(500, 375)\n"
     ]
    }
   ],
   "source": [
    "idx = 25\n",
    "pack = dataset[idx]\n",
    "\n",
    "with torch.no_grad():\n",
    "    name = pack['name']\n",
    "    org_img_size = pack['size']\n",
    "    print(org_img_size)\n",
    "    \n",
    "    strided_size = imutils.get_strided_size(org_img_size, 4)\n",
    "    \n",
    "    depth_map = image_util.read_image(os.path.join(depth_root, name+'.png'))\n",
    "    \n",
    "    edge_map = util.depth_to_edge(depth_map)\n",
    "    edge_map = util.normalize(edge_map)\n",
    "    edge_map = torch.from_numpy(edge_map).unsqueeze(0).to(device)\n",
    "\n",
    "    edge_map = F.interpolate(torch.unsqueeze(edge_map, 0), strided_size, mode='bilinear', align_corners=False)\n",
    "    \n",
    "    cam_dict = np.load(os.path.join(cam_root, name + '.npy'), allow_pickle=True).item()\n",
    "    \n",
    "    cams = cam_dict['cam']\n",
    "    keys = np.pad(cam_dict['keys'] + 1, (1,0), mode='constant')\n",
    "    \n",
    "    cam_downsized_values = cams.to(device)\n",
    "    \n",
    "    rw = indexing.propagate_to_edge(cam_downsized_values, edge_map, beta=beta, exp_times=exp_times, device=device)\n",
    "\n",
    "\n"
   ]
  },
  {
   "cell_type": "code",
   "execution_count": 21,
   "metadata": {},
   "outputs": [
    {
     "name": "stdout",
     "output_type": "stream",
     "text": [
      "tensor([[[[0.0444, 0.0444, 0.0443,  ..., 0.0403, 0.0403, 0.0403],\n",
      "          [0.0444, 0.0444, 0.0444,  ..., 0.0403, 0.0403, 0.0403],\n",
      "          [0.0444, 0.0444, 0.0444,  ..., 0.0403, 0.0403, 0.0403],\n",
      "          ...,\n",
      "          [0.0620, 0.0620, 0.0620,  ..., 0.0552, 0.0552, 0.0552],\n",
      "          [0.0620, 0.0620, 0.0620,  ..., 0.0552, 0.0552, 0.0552],\n",
      "          [0.0620, 0.0620, 0.0620,  ..., 0.0552, 0.0552, 0.0552]]]],\n",
      "       device='cuda:0', dtype=torch.float64)\n"
     ]
    }
   ],
   "source": [
    "print(rw)"
   ]
  },
  {
   "cell_type": "code",
   "execution_count": 22,
   "metadata": {},
   "outputs": [],
   "source": [
    "rw_up = F.interpolate(rw, scale_factor=4, mode='bilinear', align_corners=False)[..., 0, :org_img_size[0], :org_img_size[1]]\n",
    "rw_up = rw_up / torch.max(rw_up)\n",
    "\n",
    "rw_up_bg = F.pad(rw_up, (0, 0, 0, 0, 1, 0), value=0.25)\n",
    "# rw_up_bg = F.pad(rw_up, (0, 0, 0, 0, 1, 0), value=0)\n",
    "rw_pred = torch.argmax(rw_up_bg, dim=0).cpu().numpy()\n",
    "\n",
    "rw_pred = keys[rw_pred]"
   ]
  },
  {
   "cell_type": "code",
   "execution_count": 23,
   "metadata": {},
   "outputs": [
    {
     "data": {
      "image/png": "[encoded data removed]",
      "text/plain": [
       "<Figure size 640x480 with 1 Axes>"
      ]
     },
     "metadata": {},
     "output_type": "display_data"
    }
   ],
   "source": [
    "image_util.image_show(rw_pred)"
   ]
  },
  {
   "cell_type": "code",
   "execution_count": 24,
   "metadata": {},
   "outputs": [
    {
     "data": {
      "image/png": "[encoded data removed]",
      "text/plain": [
       "<Figure size 640x480 with 1 Axes>"
      ]
     },
     "metadata": {},
     "output_type": "display_data"
    }
   ],
   "source": [
    "seg_root = \"../irn_result/sem_seg/\"\n",
    "\n",
    "image_util.image_show(os.path.join(seg_root, name+\".png\"))"
   ]
  },
  {
   "cell_type": "code",
   "execution_count": null,
   "metadata": {},
   "outputs": [],
   "source": []
  }
 ],
 "metadata": {
  "kernelspec": {
   "display_name": "ml",
   "language": "python",
   "name": "python3"
  },
  "language_info": {
   "codemirror_mode": {
    "name": "ipython",
    "version": 3
   },
   "file_extension": ".py",
   "mimetype": "text/x-python",
   "name": "python",
   "nbconvert_exporter": "python",
   "pygments_lexer": "ipython3",
   "version": "3.9.13"
  },
  "orig_nbformat": 4
 },
 "nbformat": 4,
 "nbformat_minor": 2
}
