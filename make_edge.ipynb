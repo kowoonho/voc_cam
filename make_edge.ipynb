{
 "cells": [
  {
   "cell_type": "code",
   "execution_count": 13,
   "metadata": {},
   "outputs": [],
   "source": [
    "import torch\n",
    "from torch.utils.data import DataLoader\n",
    "import voc12.dataloader\n",
    "from misc import pyutils, torchutils, indexing, imutils\n",
    "import importlib\n",
    "from tqdm import tqdm\n",
    "import cv2\n",
    "import numpy as np\n",
    "import os\n",
    "from utility import image_util, util\n",
    "import torch.nn.functional as F\n"
   ]
  },
  {
   "cell_type": "code",
   "execution_count": 14,
   "metadata": {},
   "outputs": [],
   "source": [
    "infer_list = \"voc12/val.txt\"\n",
    "voc12_root =\"../Dataset/VOC2012/\"\n",
    "depth_root = \"../result/depth_img/\"\n",
    "cam_root = \"../irn_result/cam\"\n",
    "\n",
    "beta = 5\n",
    "exp_times = 10\n",
    "\n",
    "device = 'cuda:0'"
   ]
  },
  {
   "cell_type": "code",
   "execution_count": 15,
   "metadata": {},
   "outputs": [],
   "source": [
    "dataset = voc12.dataloader.VOC12ClassificationDatasetMSF(infer_list,\n",
    "                                                             voc12_root=voc12_root,\n",
    "                                                             scales=(1.0,))"
   ]
  },
  {
   "cell_type": "code",
   "execution_count": 43,
   "metadata": {},
   "outputs": [
    {
     "name": "stdout",
     "output_type": "stream",
     "text": [
      "(tensor([71]), tensor([125]))\n",
      "torch.Size([1, 1, 71, 125])\n"
     ]
    },
    {
     "name": "stderr",
     "output_type": "stream",
     "text": [
      "/Users/yunsu/opt/anaconda3/envs/ml/lib/python3.7/site-packages/ipykernel_launcher.py:6: FutureWarning: The input object of type 'Tensor' is an array-like implementing one of the corresponding protocols (`__array__`, `__array_interface__` or `__array_struct__`); but not a sequence (or 0-D). In the future, this object will be coerced as if it was first converted using `np.array(obj)`. To retain the old behaviour, you have to either modify the type 'Tensor', or assign to an empty array created with `np.empty(correct_shape, dtype=object)`.\n",
      "  \n",
      "/Users/yunsu/opt/anaconda3/envs/ml/lib/python3.7/site-packages/ipykernel_launcher.py:6: VisibleDeprecationWarning: Creating an ndarray from ragged nested sequences (which is a list-or-tuple of lists-or-tuples-or ndarrays with different lengths or shapes) is deprecated. If you meant to do this, you must specify 'dtype=object' when creating the ndarray.\n",
      "  \n"
     ]
    }
   ],
   "source": [
    "data_loader = DataLoader(dataset, shuffle=False)\n",
    "\n",
    "with torch.no_grad():\n",
    "    pack = next(iter(data_loader))\n",
    "    name = pack['name'][0]\n",
    "    org_img_size = np.asarray(pack['size'])\n",
    "    \n",
    "    strided_size = imutils.get_strided_size(org_img_size, 4)\n",
    "    \n",
    "    depth_map = image_util.read_image(os.path.join(depth_root, name+'.png'))\n",
    "    \n",
    "    edge_map = util.depth_to_edge(depth_map)\n",
    "    edge_map = util.normalize(edge_map)\n",
    "    edge_map = torch.from_numpy(edge_map).unsqueeze(0)\n",
    "\n",
    "    edge_map = F.interpolate(torch.unsqueeze(edge_map, 0), strided_size, mode='bilinear', align_corners=False)\n",
    "    \n",
    "    cam_dict = np.load(os.path.join(cam_root, name + '.npy'), allow_pickle=True).item()\n",
    "    \n",
    "    cams = cam_dict['cam']\n",
    "    keys = np.pad(cam_dict['keys'] + 1, (1,0), mode='constant')\n",
    "    \n",
    "    cam_downsized_values = cams.to(device)\n",
    "    \n",
    "    rw = indexing.propagate_to_edge(cam_downsized_values, edge_map, beta=beta, exp_times=exp_times, device=device)\n",
    "    \n",
    "\n"
   ]
  },
  {
   "cell_type": "code",
   "execution_count": 45,
   "metadata": {},
   "outputs": [
    {
     "data": {
      "image/png": "[encoded data removed]",
      "text/plain": [
       "<Figure size 640x480 with 2 Axes>"
      ]
     },
     "metadata": {},
     "output_type": "display_data"
    }
   ],
   "source": [
    "image_util.image_show(edge_map[0], depth_map, idx=(1,2))"
   ]
  },
  {
   "cell_type": "code",
   "execution_count": null,
   "metadata": {},
   "outputs": [],
   "source": []
  },
  {
   "cell_type": "code",
   "execution_count": null,
   "metadata": {},
   "outputs": [],
   "source": []
  }
 ],
 "metadata": {
  "kernelspec": {
   "display_name": "ml",
   "language": "python",
   "name": "python3"
  },
  "language_info": {
   "codemirror_mode": {
    "name": "ipython",
    "version": 3
   },
   "file_extension": ".py",
   "mimetype": "text/x-python",
   "name": "python",
   "nbconvert_exporter": "python",
   "pygments_lexer": "ipython3",
   "version": "3.7.13"
  },
  "orig_nbformat": 4
 },
 "nbformat": 4,
 "nbformat_minor": 2
}
