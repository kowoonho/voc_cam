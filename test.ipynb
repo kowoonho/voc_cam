{
 "cells": [
  {
   "cell_type": "code",
   "execution_count": 39,
   "metadata": {},
   "outputs": [],
   "source": [
    "import os\n",
    "from utility.image_util import *\n",
    "import numpy as np\n",
    "import torch\n",
    "from voc12 import my_dataloader\n",
    "from torch.utils.data import DataLoader\n",
    "import importlib"
   ]
  },
  {
   "cell_type": "code",
   "execution_count": 43,
   "metadata": {},
   "outputs": [],
   "source": [
    "rgbd_cam_root = \"../irn_result/rgbd_cam/\"\n",
    "img_root = \"../Dataset/VOC2012/JPEGImages/\"\n",
    "voc_root = \"../Dataset/VOC2012/\"\n",
    "depth_root = \"../result/depth_img/\"\n",
    "\n",
    "img_name_list_path = \"voc12/val.txt\"\n",
    "\n",
    "cam_network = \"net.resnet50_cam\"\n",
    "rgbd_cam_weight_name = \"../sess/voc_sess/resnet50_rgbd_cam.pth\"\n",
    "device = \"cuda:0\""
   ]
  },
  {
   "cell_type": "code",
   "execution_count": 44,
   "metadata": {},
   "outputs": [],
   "source": [
    "dataset= my_dataloader.VOC12_DepthClassificationDataset(img_name_list_path, voc_root, depth_root)\n",
    "\n",
    "data_loader = DataLoader(dataset)"
   ]
  },
  {
   "cell_type": "code",
   "execution_count": 46,
   "metadata": {},
   "outputs": [],
   "source": [
    "model = getattr(importlib.import_module(cam_network), 'Net')(rgbd=True)\n",
    "\n",
    "model.load_state_dict(torch.load(rgbd_cam_weight_name), strict=True)\n",
    "model.eval()\n",
    "model = model.to(device)"
   ]
  },
  {
   "cell_type": "code",
   "execution_count": 52,
   "metadata": {},
   "outputs": [
    {
     "name": "stdout",
     "output_type": "stream",
     "text": [
      "torch.Size([20])\n",
      "tensor([[-3.0636, -3.3900, -3.0725, -3.4051, -3.2328, -3.7455, -2.4545, -2.8801,\n",
      "         -2.6375, -4.2445, -3.3742, -2.6451, -3.6146, -3.5024,  0.3382, -3.4656,\n",
      "         -4.1384, -3.3201, -3.4261, -3.4447]], device='cuda:0')\n",
      "tensor([[1., 0., 0., 0., 0., 0., 0., 0., 0., 0., 0., 0., 0., 0., 1., 0., 0., 0.,\n",
      "         0., 0.]], device='cuda:0')\n"
     ]
    }
   ],
   "source": [
    "idx = 15\n",
    "data = dataset[idx]\n",
    "img = np.expand_dims(data['img'], axis = 0)\n",
    "label = data['label']\n",
    "with torch.no_grad():\n",
    "    pack = next(iter(data_loader))\n",
    "\n",
    "    img = pack['img'].to(device)\n",
    "    label = pack['label'].to(device)\n",
    "    x = model(img)\n",
    "    print(x)\n",
    "    print(label)"
   ]
  },
  {
   "cell_type": "code",
   "execution_count": null,
   "metadata": {},
   "outputs": [],
   "source": []
  }
 ],
 "metadata": {
  "language_info": {
   "name": "python"
  },
  "orig_nbformat": 4
 },
 "nbformat": 4,
 "nbformat_minor": 2
}
