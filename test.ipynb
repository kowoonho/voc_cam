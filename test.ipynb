{
 "cells": [
  {
   "cell_type": "code",
   "execution_count": 1,
   "metadata": {},
   "outputs": [],
   "source": [
    "import os\n",
    "import importlib\n",
    "import torch\n",
    "\n",
    "from voc12 import my_dataloader\n",
    "from torch.utils.data import DataLoader\n",
    "import numpy as np\n",
    "from utility.image_util import *\n",
    "from misc import torchutils\n",
    "import torch.nn.functional as F\n",
    "from tqdm import tqdm"
   ]
  },
  {
   "cell_type": "code",
   "execution_count": 2,
   "metadata": {},
   "outputs": [],
   "source": [
    "cam_network = \"net.resnet50_cam\"\n",
    "rgbd_cam_weights_name = \"../sess/voc_sess/resnet50_rgbd_cam\"\n",
    "\n",
    "val_list = \"voc12/val.txt\"\n",
    "voc12_root = \"../Dataset/VOC2012/\"\n",
    "depth_root = \"../result/depth_img/\"\n",
    "\n",
    "device = \"cuda\""
   ]
  },
  {
   "cell_type": "code",
   "execution_count": 3,
   "metadata": {},
   "outputs": [],
   "source": [
    "model = getattr(importlib.import_module(cam_network), 'Net')(rgbd=True)\n",
    "# model.load_state_dict(torch.load(rgbd_cam_weights_name + '.pth'), strict=True)\n",
    "model.train()"
   ]
  },
  {
   "cell_type": "code",
   "execution_count": 4,
   "metadata": {},
   "outputs": [],
   "source": [
    "val_dataset = my_dataloader.VOC12_DepthClassificationDataset(val_list, voc12_root=voc12_root,\n",
    "                                                                             depth_root=depth_root,\n",
    "                                                                             resize_long=(320, 640), hor_flip=True,\n",
    "                                                                             crop_size=512, crop_method='random')"
   ]
  },
  {
   "cell_type": "code",
   "execution_count": 10,
   "metadata": {},
   "outputs": [],
   "source": [
    "data_loader = DataLoader(val_dataset)\n",
    "\n",
    "param_groups = model.trainable_parameters()\n",
    "optimizer = torchutils.PolyOptimizer([\n",
    "        {'params': param_groups[0], 'lr': 0.05, 'weight_decay': 1e-4},\n",
    "        {'params': param_groups[1], 'lr': 0.5, 'weight_decay': 1e-4},\n",
    "    ], lr=0.05, weight_decay=1e-4, max_step=100)\n",
    "\n",
    "model = model.to(device)"
   ]
  },
  {
   "cell_type": "code",
   "execution_count": 12,
   "metadata": {},
   "outputs": [
    {
     "name": "stderr",
     "output_type": "stream",
     "text": [
      "  0%|          | 3/2913 [00:00<05:41,  8.53it/s]"
     ]
    },
    {
     "name": "stdout",
     "output_type": "stream",
     "text": [
      "tensor(0.6941, device='cuda:0', grad_fn=<MeanBackward0>)\n",
      "tensor(0.6926, device='cuda:0', grad_fn=<MeanBackward0>)\n",
      "tensor(0.6921, device='cuda:0', grad_fn=<MeanBackward0>)\n",
      "tensor(0.6907, device='cuda:0', grad_fn=<MeanBackward0>)\n",
      "tensor(0.6890, device='cuda:0', grad_fn=<MeanBackward0>)\n"
     ]
    },
    {
     "name": "stderr",
     "output_type": "stream",
     "text": [
      "  0%|          | 8/2913 [00:00<03:14, 14.90it/s]"
     ]
    },
    {
     "name": "stdout",
     "output_type": "stream",
     "text": [
      "tensor(0.6893, device='cuda:0', grad_fn=<MeanBackward0>)\n",
      "tensor(0.6866, device='cuda:0', grad_fn=<MeanBackward0>)\n",
      "tensor(0.6871, device='cuda:0', grad_fn=<MeanBackward0>)\n",
      "tensor(0.6837, device='cuda:0', grad_fn=<MeanBackward0>)\n"
     ]
    },
    {
     "name": "stderr",
     "output_type": "stream",
     "text": [
      "  0%|          | 14/2913 [00:00<02:37, 18.45it/s]"
     ]
    },
    {
     "name": "stdout",
     "output_type": "stream",
     "text": [
      "tensor(0.6825, device='cuda:0', grad_fn=<MeanBackward0>)\n",
      "tensor(0.6803, device='cuda:0', grad_fn=<MeanBackward0>)\n",
      "tensor(0.6822, device='cuda:0', grad_fn=<MeanBackward0>)\n",
      "tensor(0.6740, device='cuda:0', grad_fn=<MeanBackward0>)\n",
      "tensor(0.6761, device='cuda:0', grad_fn=<MeanBackward0>)\n"
     ]
    },
    {
     "name": "stderr",
     "output_type": "stream",
     "text": [
      "  1%|          | 17/2913 [00:01<02:30, 19.19it/s]"
     ]
    },
    {
     "name": "stdout",
     "output_type": "stream",
     "text": [
      "tensor(0.6802, device='cuda:0', grad_fn=<MeanBackward0>)\n",
      "tensor(0.6742, device='cuda:0', grad_fn=<MeanBackward0>)\n",
      "tensor(0.6743, device='cuda:0', grad_fn=<MeanBackward0>)\n",
      "tensor(0.6648, device='cuda:0', grad_fn=<MeanBackward0>)\n"
     ]
    },
    {
     "name": "stderr",
     "output_type": "stream",
     "text": [
      "  1%|          | 21/2913 [00:01<02:30, 19.22it/s]"
     ]
    },
    {
     "name": "stdout",
     "output_type": "stream",
     "text": [
      "tensor(0.6663, device='cuda:0', grad_fn=<MeanBackward0>)\n",
      "tensor(0.6577, device='cuda:0', grad_fn=<MeanBackward0>)\n",
      "tensor(0.6696, device='cuda:0', grad_fn=<MeanBackward0>)\n",
      "tensor(0.6666, device='cuda:0', grad_fn=<MeanBackward0>)\n",
      "tensor(0.6631, device='cuda:0', grad_fn=<MeanBackward0>)\n"
     ]
    },
    {
     "name": "stderr",
     "output_type": "stream",
     "text": [
      "  1%|          | 27/2913 [00:01<02:21, 20.46it/s]"
     ]
    },
    {
     "name": "stdout",
     "output_type": "stream",
     "text": [
      "tensor(0.6621, device='cuda:0', grad_fn=<MeanBackward0>)\n",
      "tensor(0.6633, device='cuda:0', grad_fn=<MeanBackward0>)\n",
      "tensor(0.6544, device='cuda:0', grad_fn=<MeanBackward0>)\n",
      "tensor(0.6424, device='cuda:0', grad_fn=<MeanBackward0>)\n",
      "tensor(0.6396, device='cuda:0', grad_fn=<MeanBackward0>)\n"
     ]
    },
    {
     "name": "stderr",
     "output_type": "stream",
     "text": [
      "  1%|          | 33/2913 [00:01<02:25, 19.75it/s]"
     ]
    },
    {
     "name": "stdout",
     "output_type": "stream",
     "text": [
      "tensor(0.6451, device='cuda:0', grad_fn=<MeanBackward0>)\n",
      "tensor(0.6499, device='cuda:0', grad_fn=<MeanBackward0>)\n",
      "tensor(0.6292, device='cuda:0', grad_fn=<MeanBackward0>)\n",
      "tensor(0.6264, device='cuda:0', grad_fn=<MeanBackward0>)\n",
      "tensor(0.6181, device='cuda:0', grad_fn=<MeanBackward0>)\n"
     ]
    },
    {
     "name": "stderr",
     "output_type": "stream",
     "text": [
      "  1%|          | 36/2913 [00:02<02:20, 20.55it/s]"
     ]
    },
    {
     "name": "stdout",
     "output_type": "stream",
     "text": [
      "tensor(0.6396, device='cuda:0', grad_fn=<MeanBackward0>)\n",
      "tensor(0.6032, device='cuda:0', grad_fn=<MeanBackward0>)\n",
      "tensor(0.6313, device='cuda:0', grad_fn=<MeanBackward0>)\n",
      "tensor(0.6169, device='cuda:0', grad_fn=<MeanBackward0>)\n",
      "tensor(0.5933, device='cuda:0', grad_fn=<MeanBackward0>)\n"
     ]
    },
    {
     "name": "stderr",
     "output_type": "stream",
     "text": [
      "  1%|▏         | 42/2913 [00:02<02:18, 20.66it/s]"
     ]
    },
    {
     "name": "stdout",
     "output_type": "stream",
     "text": [
      "tensor(0.6017, device='cuda:0', grad_fn=<MeanBackward0>)\n",
      "tensor(0.6349, device='cuda:0', grad_fn=<MeanBackward0>)\n",
      "tensor(0.6090, device='cuda:0', grad_fn=<MeanBackward0>)\n",
      "tensor(0.5984, device='cuda:0', grad_fn=<MeanBackward0>)\n"
     ]
    },
    {
     "name": "stderr",
     "output_type": "stream",
     "text": [
      "  2%|▏         | 45/2913 [00:02<02:20, 20.37it/s]"
     ]
    },
    {
     "name": "stdout",
     "output_type": "stream",
     "text": [
      "tensor(0.5854, device='cuda:0', grad_fn=<MeanBackward0>)\n",
      "tensor(0.5541, device='cuda:0', grad_fn=<MeanBackward0>)\n",
      "tensor(0.5843, device='cuda:0', grad_fn=<MeanBackward0>)\n",
      "tensor(0.5929, device='cuda:0', grad_fn=<MeanBackward0>)\n",
      "tensor(0.5745, device='cuda:0', grad_fn=<MeanBackward0>)\n"
     ]
    },
    {
     "name": "stderr",
     "output_type": "stream",
     "text": [
      "  2%|▏         | 51/2913 [00:02<02:20, 20.41it/s]"
     ]
    },
    {
     "name": "stdout",
     "output_type": "stream",
     "text": [
      "tensor(0.5473, device='cuda:0', grad_fn=<MeanBackward0>)\n",
      "tensor(0.5626, device='cuda:0', grad_fn=<MeanBackward0>)\n",
      "tensor(0.5303, device='cuda:0', grad_fn=<MeanBackward0>)\n",
      "tensor(0.5227, device='cuda:0', grad_fn=<MeanBackward0>)\n",
      "tensor(0.5504, device='cuda:0', grad_fn=<MeanBackward0>)\n"
     ]
    },
    {
     "name": "stderr",
     "output_type": "stream",
     "text": [
      "  2%|▏         | 54/2913 [00:02<02:22, 20.04it/s]"
     ]
    },
    {
     "name": "stdout",
     "output_type": "stream",
     "text": [
      "tensor(0.5062, device='cuda:0', grad_fn=<MeanBackward0>)\n",
      "tensor(0.5370, device='cuda:0', grad_fn=<MeanBackward0>)\n",
      "tensor(0.4808, device='cuda:0', grad_fn=<MeanBackward0>)\n",
      "tensor(0.5438, device='cuda:0', grad_fn=<MeanBackward0>)\n"
     ]
    },
    {
     "name": "stderr",
     "output_type": "stream",
     "text": [
      "  2%|▏         | 59/2913 [00:03<02:24, 19.81it/s]"
     ]
    },
    {
     "name": "stdout",
     "output_type": "stream",
     "text": [
      "tensor(0.5139, device='cuda:0', grad_fn=<MeanBackward0>)\n",
      "tensor(0.4985, device='cuda:0', grad_fn=<MeanBackward0>)\n",
      "tensor(0.4734, device='cuda:0', grad_fn=<MeanBackward0>)\n",
      "tensor(0.4877, device='cuda:0', grad_fn=<MeanBackward0>)\n"
     ]
    },
    {
     "name": "stderr",
     "output_type": "stream",
     "text": [
      "  2%|▏         | 64/2913 [00:03<02:23, 19.86it/s]"
     ]
    },
    {
     "name": "stdout",
     "output_type": "stream",
     "text": [
      "tensor(0.4955, device='cuda:0', grad_fn=<MeanBackward0>)\n",
      "tensor(0.4909, device='cuda:0', grad_fn=<MeanBackward0>)\n",
      "tensor(0.4497, device='cuda:0', grad_fn=<MeanBackward0>)\n",
      "tensor(0.4657, device='cuda:0', grad_fn=<MeanBackward0>)\n",
      "tensor(0.5628, device='cuda:0', grad_fn=<MeanBackward0>)\n"
     ]
    },
    {
     "name": "stderr",
     "output_type": "stream",
     "text": [
      "  2%|▏         | 70/2913 [00:03<02:17, 20.68it/s]"
     ]
    },
    {
     "name": "stdout",
     "output_type": "stream",
     "text": [
      "tensor(0.4149, device='cuda:0', grad_fn=<MeanBackward0>)\n",
      "tensor(0.5275, device='cuda:0', grad_fn=<MeanBackward0>)\n",
      "tensor(0.4880, device='cuda:0', grad_fn=<MeanBackward0>)\n",
      "tensor(0.4516, device='cuda:0', grad_fn=<MeanBackward0>)\n",
      "tensor(0.5208, device='cuda:0', grad_fn=<MeanBackward0>)\n"
     ]
    },
    {
     "name": "stderr",
     "output_type": "stream",
     "text": [
      "  3%|▎         | 73/2913 [00:03<02:24, 19.69it/s]"
     ]
    },
    {
     "name": "stdout",
     "output_type": "stream",
     "text": [
      "tensor(0.4091, device='cuda:0', grad_fn=<MeanBackward0>)\n",
      "tensor(0.4158, device='cuda:0', grad_fn=<MeanBackward0>)\n",
      "tensor(0.3572, device='cuda:0', grad_fn=<MeanBackward0>)\n",
      "tensor(0.4126, device='cuda:0', grad_fn=<MeanBackward0>)\n"
     ]
    },
    {
     "name": "stderr",
     "output_type": "stream",
     "text": [
      "  3%|▎         | 79/2913 [00:04<02:17, 20.58it/s]"
     ]
    },
    {
     "name": "stdout",
     "output_type": "stream",
     "text": [
      "tensor(0.4140, device='cuda:0', grad_fn=<MeanBackward0>)\n",
      "tensor(0.4157, device='cuda:0', grad_fn=<MeanBackward0>)\n",
      "tensor(0.4257, device='cuda:0', grad_fn=<MeanBackward0>)\n",
      "tensor(0.3783, device='cuda:0', grad_fn=<MeanBackward0>)\n",
      "tensor(0.4347, device='cuda:0', grad_fn=<MeanBackward0>)\n"
     ]
    },
    {
     "name": "stderr",
     "output_type": "stream",
     "text": [
      "  3%|▎         | 82/2913 [00:04<02:18, 20.40it/s]"
     ]
    },
    {
     "name": "stdout",
     "output_type": "stream",
     "text": [
      "tensor(0.3811, device='cuda:0', grad_fn=<MeanBackward0>)\n",
      "tensor(0.3883, device='cuda:0', grad_fn=<MeanBackward0>)\n",
      "tensor(0.4401, device='cuda:0', grad_fn=<MeanBackward0>)\n",
      "tensor(0.3853, device='cuda:0', grad_fn=<MeanBackward0>)\n",
      "tensor(0.4513, device='cuda:0', grad_fn=<MeanBackward0>)\n"
     ]
    },
    {
     "name": "stderr",
     "output_type": "stream",
     "text": [
      "  3%|▎         | 88/2913 [00:04<02:18, 20.38it/s]"
     ]
    },
    {
     "name": "stdout",
     "output_type": "stream",
     "text": [
      "tensor(0.2957, device='cuda:0', grad_fn=<MeanBackward0>)\n",
      "tensor(0.4818, device='cuda:0', grad_fn=<MeanBackward0>)\n",
      "tensor(0.3907, device='cuda:0', grad_fn=<MeanBackward0>)\n",
      "tensor(0.4005, device='cuda:0', grad_fn=<MeanBackward0>)\n",
      "tensor(0.3599, device='cuda:0', grad_fn=<MeanBackward0>)\n"
     ]
    },
    {
     "name": "stderr",
     "output_type": "stream",
     "text": [
      "  3%|▎         | 94/2913 [00:04<02:19, 20.15it/s]"
     ]
    },
    {
     "name": "stdout",
     "output_type": "stream",
     "text": [
      "tensor(0.3547, device='cuda:0', grad_fn=<MeanBackward0>)\n",
      "tensor(0.3097, device='cuda:0', grad_fn=<MeanBackward0>)\n",
      "tensor(0.3574, device='cuda:0', grad_fn=<MeanBackward0>)\n",
      "tensor(0.4062, device='cuda:0', grad_fn=<MeanBackward0>)\n",
      "tensor(0.3348, device='cuda:0', grad_fn=<MeanBackward0>)\n"
     ]
    },
    {
     "name": "stderr",
     "output_type": "stream",
     "text": [
      "  3%|▎         | 97/2913 [00:05<02:17, 20.48it/s]"
     ]
    },
    {
     "name": "stdout",
     "output_type": "stream",
     "text": [
      "tensor(0.3448, device='cuda:0', grad_fn=<MeanBackward0>)\n",
      "tensor(0.4284, device='cuda:0', grad_fn=<MeanBackward0>)\n",
      "tensor(0.3660, device='cuda:0', grad_fn=<MeanBackward0>)\n",
      "tensor(0.3300, device='cuda:0', grad_fn=<MeanBackward0>)\n",
      "tensor(0.4031, device='cuda:0', grad_fn=<MeanBackward0>)\n"
     ]
    },
    {
     "name": "stderr",
     "output_type": "stream",
     "text": [
      "  4%|▎         | 103/2913 [00:05<02:17, 20.40it/s]"
     ]
    },
    {
     "name": "stdout",
     "output_type": "stream",
     "text": [
      "tensor(0.3640, device='cuda:0', grad_fn=<MeanBackward0>)\n",
      "tensor(0.4006, device='cuda:0', grad_fn=<MeanBackward0>)\n",
      "tensor(0.3960, device='cuda:0', grad_fn=<MeanBackward0>)\n",
      "tensor(0.3702, device='cuda:0', grad_fn=<MeanBackward0>)\n"
     ]
    },
    {
     "name": "stderr",
     "output_type": "stream",
     "text": [
      "  4%|▎         | 106/2913 [00:05<02:17, 20.44it/s]"
     ]
    },
    {
     "name": "stdout",
     "output_type": "stream",
     "text": [
      "tensor(0.3695, device='cuda:0', grad_fn=<MeanBackward0>)\n",
      "tensor(0.3630, device='cuda:0', grad_fn=<MeanBackward0>)\n",
      "tensor(0.4139, device='cuda:0', grad_fn=<MeanBackward0>)\n",
      "tensor(0.3445, device='cuda:0', grad_fn=<MeanBackward0>)\n",
      "tensor(0.3063, device='cuda:0', grad_fn=<MeanBackward0>)\n"
     ]
    },
    {
     "name": "stderr",
     "output_type": "stream",
     "text": [
      "  4%|▍         | 112/2913 [00:05<02:17, 20.32it/s]"
     ]
    },
    {
     "name": "stdout",
     "output_type": "stream",
     "text": [
      "tensor(0.3670, device='cuda:0', grad_fn=<MeanBackward0>)\n",
      "tensor(0.5138, device='cuda:0', grad_fn=<MeanBackward0>)\n",
      "tensor(0.3582, device='cuda:0', grad_fn=<MeanBackward0>)\n",
      "tensor(0.3685, device='cuda:0', grad_fn=<MeanBackward0>)\n",
      "tensor(0.4166, device='cuda:0', grad_fn=<MeanBackward0>)\n"
     ]
    },
    {
     "name": "stderr",
     "output_type": "stream",
     "text": [
      "  4%|▍         | 115/2913 [00:05<02:13, 20.94it/s]"
     ]
    },
    {
     "name": "stdout",
     "output_type": "stream",
     "text": [
      "tensor(0.3574, device='cuda:0', grad_fn=<MeanBackward0>)\n",
      "tensor(0.3511, device='cuda:0', grad_fn=<MeanBackward0>)\n",
      "tensor(0.3094, device='cuda:0', grad_fn=<MeanBackward0>)\n",
      "tensor(0.4221, device='cuda:0', grad_fn=<MeanBackward0>)\n"
     ]
    },
    {
     "name": "stderr",
     "output_type": "stream",
     "text": [
      "  4%|▍         | 121/2913 [00:06<02:13, 20.87it/s]"
     ]
    },
    {
     "name": "stdout",
     "output_type": "stream",
     "text": [
      "tensor(0.4347, device='cuda:0', grad_fn=<MeanBackward0>)\n",
      "tensor(0.3224, device='cuda:0', grad_fn=<MeanBackward0>)\n",
      "tensor(0.3512, device='cuda:0', grad_fn=<MeanBackward0>)\n",
      "tensor(0.3443, device='cuda:0', grad_fn=<MeanBackward0>)\n",
      "tensor(0.3492, device='cuda:0', grad_fn=<MeanBackward0>)\n"
     ]
    },
    {
     "name": "stderr",
     "output_type": "stream",
     "text": [
      "  4%|▍         | 127/2913 [00:06<02:15, 20.61it/s]"
     ]
    },
    {
     "name": "stdout",
     "output_type": "stream",
     "text": [
      "tensor(0.3539, device='cuda:0', grad_fn=<MeanBackward0>)\n",
      "tensor(0.4003, device='cuda:0', grad_fn=<MeanBackward0>)\n",
      "tensor(0.3676, device='cuda:0', grad_fn=<MeanBackward0>)\n",
      "tensor(0.3480, device='cuda:0', grad_fn=<MeanBackward0>)\n",
      "tensor(0.3263, device='cuda:0', grad_fn=<MeanBackward0>)\n"
     ]
    },
    {
     "name": "stderr",
     "output_type": "stream",
     "text": [
      "  4%|▍         | 130/2913 [00:06<02:13, 20.80it/s]"
     ]
    },
    {
     "name": "stdout",
     "output_type": "stream",
     "text": [
      "tensor(0.3562, device='cuda:0', grad_fn=<MeanBackward0>)\n",
      "tensor(0.3620, device='cuda:0', grad_fn=<MeanBackward0>)\n",
      "tensor(0.3629, device='cuda:0', grad_fn=<MeanBackward0>)\n",
      "tensor(0.3758, device='cuda:0', grad_fn=<MeanBackward0>)\n",
      "tensor(0.3436, device='cuda:0', grad_fn=<MeanBackward0>)\n"
     ]
    },
    {
     "name": "stderr",
     "output_type": "stream",
     "text": [
      "  5%|▍         | 136/2913 [00:06<02:10, 21.27it/s]"
     ]
    },
    {
     "name": "stdout",
     "output_type": "stream",
     "text": [
      "tensor(0.2816, device='cuda:0', grad_fn=<MeanBackward0>)\n",
      "tensor(0.3576, device='cuda:0', grad_fn=<MeanBackward0>)\n",
      "tensor(0.3545, device='cuda:0', grad_fn=<MeanBackward0>)\n",
      "tensor(0.3604, device='cuda:0', grad_fn=<MeanBackward0>)\n",
      "tensor(0.4066, device='cuda:0', grad_fn=<MeanBackward0>)\n"
     ]
    },
    {
     "name": "stderr",
     "output_type": "stream",
     "text": [
      "  5%|▍         | 142/2913 [00:07<02:06, 21.90it/s]"
     ]
    },
    {
     "name": "stdout",
     "output_type": "stream",
     "text": [
      "tensor(0.3439, device='cuda:0', grad_fn=<MeanBackward0>)\n",
      "tensor(0.3610, device='cuda:0', grad_fn=<MeanBackward0>)\n",
      "tensor(0.3613, device='cuda:0', grad_fn=<MeanBackward0>)\n",
      "tensor(0.4629, device='cuda:0', grad_fn=<MeanBackward0>)\n",
      "tensor(0.3597, device='cuda:0', grad_fn=<MeanBackward0>)\n"
     ]
    },
    {
     "name": "stderr",
     "output_type": "stream",
     "text": [
      "  5%|▍         | 145/2913 [00:07<02:08, 21.57it/s]"
     ]
    },
    {
     "name": "stdout",
     "output_type": "stream",
     "text": [
      "tensor(0.3483, device='cuda:0', grad_fn=<MeanBackward0>)\n",
      "tensor(0.3358, device='cuda:0', grad_fn=<MeanBackward0>)\n",
      "tensor(0.2782, device='cuda:0', grad_fn=<MeanBackward0>)\n",
      "tensor(0.3526, device='cuda:0', grad_fn=<MeanBackward0>)\n"
     ]
    },
    {
     "name": "stderr",
     "output_type": "stream",
     "text": [
      "  5%|▌         | 151/2913 [00:07<02:10, 21.13it/s]"
     ]
    },
    {
     "name": "stdout",
     "output_type": "stream",
     "text": [
      "tensor(0.4434, device='cuda:0', grad_fn=<MeanBackward0>)\n",
      "tensor(0.3358, device='cuda:0', grad_fn=<MeanBackward0>)\n",
      "tensor(0.3594, device='cuda:0', grad_fn=<MeanBackward0>)\n",
      "tensor(0.3596, device='cuda:0', grad_fn=<MeanBackward0>)\n",
      "tensor(0.3730, device='cuda:0', grad_fn=<MeanBackward0>)\n"
     ]
    },
    {
     "name": "stderr",
     "output_type": "stream",
     "text": [
      "  5%|▌         | 154/2913 [00:07<02:11, 20.99it/s]"
     ]
    },
    {
     "name": "stdout",
     "output_type": "stream",
     "text": [
      "tensor(0.3523, device='cuda:0', grad_fn=<MeanBackward0>)\n",
      "tensor(0.4091, device='cuda:0', grad_fn=<MeanBackward0>)\n",
      "tensor(0.3461, device='cuda:0', grad_fn=<MeanBackward0>)\n",
      "tensor(0.3204, device='cuda:0', grad_fn=<MeanBackward0>)\n",
      "tensor(0.3982, device='cuda:0', grad_fn=<MeanBackward0>)\n"
     ]
    },
    {
     "name": "stderr",
     "output_type": "stream",
     "text": [
      "  5%|▌         | 160/2913 [00:08<02:11, 20.94it/s]"
     ]
    },
    {
     "name": "stdout",
     "output_type": "stream",
     "text": [
      "tensor(0.3468, device='cuda:0', grad_fn=<MeanBackward0>)\n",
      "tensor(0.3103, device='cuda:0', grad_fn=<MeanBackward0>)\n",
      "tensor(0.3564, device='cuda:0', grad_fn=<MeanBackward0>)\n",
      "tensor(0.3476, device='cuda:0', grad_fn=<MeanBackward0>)\n",
      "tensor(0.3445, device='cuda:0', grad_fn=<MeanBackward0>)\n"
     ]
    },
    {
     "name": "stderr",
     "output_type": "stream",
     "text": [
      "  6%|▌         | 163/2913 [00:08<02:13, 20.56it/s]"
     ]
    },
    {
     "name": "stdout",
     "output_type": "stream",
     "text": [
      "tensor(0.4092, device='cuda:0', grad_fn=<MeanBackward0>)\n",
      "tensor(0.3230, device='cuda:0', grad_fn=<MeanBackward0>)\n",
      "tensor(0.3973, device='cuda:0', grad_fn=<MeanBackward0>)\n",
      "tensor(0.3332, device='cuda:0', grad_fn=<MeanBackward0>)\n"
     ]
    },
    {
     "name": "stderr",
     "output_type": "stream",
     "text": [
      "  6%|▌         | 169/2913 [00:08<02:16, 20.05it/s]"
     ]
    },
    {
     "name": "stdout",
     "output_type": "stream",
     "text": [
      "tensor(0.3084, device='cuda:0', grad_fn=<MeanBackward0>)\n",
      "tensor(0.3056, device='cuda:0', grad_fn=<MeanBackward0>)\n",
      "tensor(0.3478, device='cuda:0', grad_fn=<MeanBackward0>)\n",
      "tensor(0.3040, device='cuda:0', grad_fn=<MeanBackward0>)\n",
      "tensor(0.4150, device='cuda:0', grad_fn=<MeanBackward0>)\n"
     ]
    },
    {
     "name": "stderr",
     "output_type": "stream",
     "text": [
      "  6%|▌         | 175/2913 [00:08<02:16, 20.09it/s]"
     ]
    },
    {
     "name": "stdout",
     "output_type": "stream",
     "text": [
      "tensor(0.3208, device='cuda:0', grad_fn=<MeanBackward0>)\n",
      "tensor(0.3896, device='cuda:0', grad_fn=<MeanBackward0>)\n",
      "tensor(0.3416, device='cuda:0', grad_fn=<MeanBackward0>)\n",
      "tensor(0.3422, device='cuda:0', grad_fn=<MeanBackward0>)\n",
      "tensor(0.3445, device='cuda:0', grad_fn=<MeanBackward0>)\n"
     ]
    },
    {
     "name": "stderr",
     "output_type": "stream",
     "text": [
      "  6%|▌         | 178/2913 [00:08<02:11, 20.77it/s]"
     ]
    },
    {
     "name": "stdout",
     "output_type": "stream",
     "text": [
      "tensor(0.3395, device='cuda:0', grad_fn=<MeanBackward0>)\n",
      "tensor(0.4092, device='cuda:0', grad_fn=<MeanBackward0>)\n",
      "tensor(0.3545, device='cuda:0', grad_fn=<MeanBackward0>)\n",
      "tensor(0.2597, device='cuda:0', grad_fn=<MeanBackward0>)\n",
      "tensor(0.3448, device='cuda:0', grad_fn=<MeanBackward0>)\n"
     ]
    },
    {
     "name": "stderr",
     "output_type": "stream",
     "text": [
      "  6%|▋         | 184/2913 [00:09<02:12, 20.60it/s]"
     ]
    },
    {
     "name": "stdout",
     "output_type": "stream",
     "text": [
      "tensor(0.3160, device='cuda:0', grad_fn=<MeanBackward0>)\n",
      "tensor(0.2716, device='cuda:0', grad_fn=<MeanBackward0>)\n",
      "tensor(0.3174, device='cuda:0', grad_fn=<MeanBackward0>)\n",
      "tensor(0.3323, device='cuda:0', grad_fn=<MeanBackward0>)\n",
      "tensor(0.3374, device='cuda:0', grad_fn=<MeanBackward0>)\n"
     ]
    },
    {
     "name": "stderr",
     "output_type": "stream",
     "text": [
      "  7%|▋         | 190/2913 [00:09<02:16, 19.94it/s]"
     ]
    },
    {
     "name": "stdout",
     "output_type": "stream",
     "text": [
      "tensor(0.3689, device='cuda:0', grad_fn=<MeanBackward0>)\n",
      "tensor(0.2611, device='cuda:0', grad_fn=<MeanBackward0>)\n",
      "tensor(0.3126, device='cuda:0', grad_fn=<MeanBackward0>)\n",
      "tensor(0.3562, device='cuda:0', grad_fn=<MeanBackward0>)\n",
      "tensor(0.5006, device='cuda:0', grad_fn=<MeanBackward0>)\n"
     ]
    },
    {
     "name": "stderr",
     "output_type": "stream",
     "text": [
      "  7%|▋         | 193/2913 [00:09<02:14, 20.28it/s]"
     ]
    },
    {
     "name": "stdout",
     "output_type": "stream",
     "text": [
      "tensor(0.3238, device='cuda:0', grad_fn=<MeanBackward0>)\n",
      "tensor(0.3666, device='cuda:0', grad_fn=<MeanBackward0>)\n",
      "tensor(0.3489, device='cuda:0', grad_fn=<MeanBackward0>)\n",
      "tensor(0.3361, device='cuda:0', grad_fn=<MeanBackward0>)\n",
      "tensor(0.3780, device='cuda:0', grad_fn=<MeanBackward0>)\n"
     ]
    },
    {
     "name": "stderr",
     "output_type": "stream",
     "text": [
      "  7%|▋         | 199/2913 [00:09<02:17, 19.79it/s]"
     ]
    },
    {
     "name": "stdout",
     "output_type": "stream",
     "text": [
      "tensor(0.3338, device='cuda:0', grad_fn=<MeanBackward0>)\n",
      "tensor(0.3438, device='cuda:0', grad_fn=<MeanBackward0>)\n",
      "tensor(0.3412, device='cuda:0', grad_fn=<MeanBackward0>)\n",
      "tensor(0.3150, device='cuda:0', grad_fn=<MeanBackward0>)\n",
      "tensor(0.2782, device='cuda:0', grad_fn=<MeanBackward0>)\n"
     ]
    },
    {
     "name": "stderr",
     "output_type": "stream",
     "text": [
      "  7%|▋         | 205/2913 [00:10<02:12, 20.38it/s]"
     ]
    },
    {
     "name": "stdout",
     "output_type": "stream",
     "text": [
      "tensor(0.3222, device='cuda:0', grad_fn=<MeanBackward0>)\n",
      "tensor(0.3583, device='cuda:0', grad_fn=<MeanBackward0>)\n",
      "tensor(0.3829, device='cuda:0', grad_fn=<MeanBackward0>)\n",
      "tensor(0.3176, device='cuda:0', grad_fn=<MeanBackward0>)\n",
      "tensor(0.3163, device='cuda:0', grad_fn=<MeanBackward0>)\n"
     ]
    },
    {
     "name": "stderr",
     "output_type": "stream",
     "text": [
      "  7%|▋         | 208/2913 [00:10<02:16, 19.82it/s]"
     ]
    },
    {
     "name": "stdout",
     "output_type": "stream",
     "text": [
      "tensor(0.3954, device='cuda:0', grad_fn=<MeanBackward0>)\n",
      "tensor(0.3165, device='cuda:0', grad_fn=<MeanBackward0>)\n",
      "tensor(0.2880, device='cuda:0', grad_fn=<MeanBackward0>)\n",
      "tensor(0.3571, device='cuda:0', grad_fn=<MeanBackward0>)\n",
      "tensor(0.3963, device='cuda:0', grad_fn=<MeanBackward0>)\n"
     ]
    },
    {
     "name": "stderr",
     "output_type": "stream",
     "text": [
      "  7%|▋         | 214/2913 [00:10<02:11, 20.51it/s]"
     ]
    },
    {
     "name": "stdout",
     "output_type": "stream",
     "text": [
      "tensor(0.3214, device='cuda:0', grad_fn=<MeanBackward0>)\n",
      "tensor(0.3254, device='cuda:0', grad_fn=<MeanBackward0>)\n",
      "tensor(0.3403, device='cuda:0', grad_fn=<MeanBackward0>)\n",
      "tensor(0.3900, device='cuda:0', grad_fn=<MeanBackward0>)\n",
      "tensor(0.3372, device='cuda:0', grad_fn=<MeanBackward0>)\n"
     ]
    },
    {
     "name": "stderr",
     "output_type": "stream",
     "text": [
      "  8%|▊         | 220/2913 [00:10<02:08, 20.88it/s]"
     ]
    },
    {
     "name": "stdout",
     "output_type": "stream",
     "text": [
      "tensor(0.3147, device='cuda:0', grad_fn=<MeanBackward0>)\n",
      "tensor(0.3157, device='cuda:0', grad_fn=<MeanBackward0>)\n",
      "tensor(0.3269, device='cuda:0', grad_fn=<MeanBackward0>)\n",
      "tensor(0.4202, device='cuda:0', grad_fn=<MeanBackward0>)\n",
      "tensor(0.3308, device='cuda:0', grad_fn=<MeanBackward0>)\n"
     ]
    },
    {
     "name": "stderr",
     "output_type": "stream",
     "text": [
      "  8%|▊         | 223/2913 [00:11<02:13, 20.15it/s]"
     ]
    },
    {
     "name": "stdout",
     "output_type": "stream",
     "text": [
      "tensor(0.3179, device='cuda:0', grad_fn=<MeanBackward0>)\n",
      "tensor(0.5052, device='cuda:0', grad_fn=<MeanBackward0>)\n",
      "tensor(0.2989, device='cuda:0', grad_fn=<MeanBackward0>)\n",
      "tensor(0.3955, device='cuda:0', grad_fn=<MeanBackward0>)\n",
      "tensor(0.3245, device='cuda:0', grad_fn=<MeanBackward0>)\n"
     ]
    },
    {
     "name": "stderr",
     "output_type": "stream",
     "text": [
      "  8%|▊         | 229/2913 [00:11<02:14, 19.99it/s]"
     ]
    },
    {
     "name": "stdout",
     "output_type": "stream",
     "text": [
      "tensor(0.3220, device='cuda:0', grad_fn=<MeanBackward0>)\n",
      "tensor(0.3273, device='cuda:0', grad_fn=<MeanBackward0>)\n",
      "tensor(0.3130, device='cuda:0', grad_fn=<MeanBackward0>)\n",
      "tensor(0.3478, device='cuda:0', grad_fn=<MeanBackward0>)\n",
      "tensor(0.3565, device='cuda:0', grad_fn=<MeanBackward0>)\n"
     ]
    },
    {
     "name": "stderr",
     "output_type": "stream",
     "text": [
      "  8%|▊         | 235/2913 [00:11<02:07, 20.96it/s]"
     ]
    },
    {
     "name": "stdout",
     "output_type": "stream",
     "text": [
      "tensor(0.3129, device='cuda:0', grad_fn=<MeanBackward0>)\n",
      "tensor(0.2812, device='cuda:0', grad_fn=<MeanBackward0>)\n",
      "tensor(0.3997, device='cuda:0', grad_fn=<MeanBackward0>)\n",
      "tensor(0.3096, device='cuda:0', grad_fn=<MeanBackward0>)\n",
      "tensor(0.4004, device='cuda:0', grad_fn=<MeanBackward0>)\n"
     ]
    },
    {
     "name": "stderr",
     "output_type": "stream",
     "text": [
      "  8%|▊         | 238/2913 [00:11<02:04, 21.50it/s]"
     ]
    },
    {
     "name": "stdout",
     "output_type": "stream",
     "text": [
      "tensor(0.3494, device='cuda:0', grad_fn=<MeanBackward0>)\n",
      "tensor(0.4176, device='cuda:0', grad_fn=<MeanBackward0>)\n",
      "tensor(0.3298, device='cuda:0', grad_fn=<MeanBackward0>)\n",
      "tensor(0.3398, device='cuda:0', grad_fn=<MeanBackward0>)\n",
      "tensor(0.3893, device='cuda:0', grad_fn=<MeanBackward0>)\n"
     ]
    },
    {
     "name": "stderr",
     "output_type": "stream",
     "text": [
      "  8%|▊         | 244/2913 [00:12<02:07, 20.99it/s]"
     ]
    },
    {
     "name": "stdout",
     "output_type": "stream",
     "text": [
      "tensor(0.3265, device='cuda:0', grad_fn=<MeanBackward0>)\n",
      "tensor(0.3401, device='cuda:0', grad_fn=<MeanBackward0>)\n",
      "tensor(0.3225, device='cuda:0', grad_fn=<MeanBackward0>)\n",
      "tensor(0.3781, device='cuda:0', grad_fn=<MeanBackward0>)\n",
      "tensor(0.3293, device='cuda:0', grad_fn=<MeanBackward0>)\n"
     ]
    },
    {
     "name": "stderr",
     "output_type": "stream",
     "text": [
      "  8%|▊         | 247/2913 [00:12<02:06, 21.11it/s]"
     ]
    },
    {
     "name": "stdout",
     "output_type": "stream",
     "text": [
      "tensor(0.3862, device='cuda:0', grad_fn=<MeanBackward0>)\n",
      "tensor(0.3470, device='cuda:0', grad_fn=<MeanBackward0>)\n",
      "tensor(0.2889, device='cuda:0', grad_fn=<MeanBackward0>)\n",
      "tensor(0.3506, device='cuda:0', grad_fn=<MeanBackward0>)\n"
     ]
    },
    {
     "name": "stderr",
     "output_type": "stream",
     "text": [
      "  9%|▊         | 253/2913 [00:12<02:08, 20.67it/s]"
     ]
    },
    {
     "name": "stdout",
     "output_type": "stream",
     "text": [
      "tensor(0.3210, device='cuda:0', grad_fn=<MeanBackward0>)\n",
      "tensor(0.3338, device='cuda:0', grad_fn=<MeanBackward0>)\n",
      "tensor(0.3343, device='cuda:0', grad_fn=<MeanBackward0>)\n",
      "tensor(0.3951, device='cuda:0', grad_fn=<MeanBackward0>)\n",
      "tensor(0.3393, device='cuda:0', grad_fn=<MeanBackward0>)\n"
     ]
    },
    {
     "name": "stderr",
     "output_type": "stream",
     "text": [
      "  9%|▉         | 259/2913 [00:12<02:07, 20.89it/s]"
     ]
    },
    {
     "name": "stdout",
     "output_type": "stream",
     "text": [
      "tensor(0.3446, device='cuda:0', grad_fn=<MeanBackward0>)\n",
      "tensor(0.3150, device='cuda:0', grad_fn=<MeanBackward0>)\n",
      "tensor(0.2910, device='cuda:0', grad_fn=<MeanBackward0>)\n",
      "tensor(0.3155, device='cuda:0', grad_fn=<MeanBackward0>)\n",
      "tensor(0.3188, device='cuda:0', grad_fn=<MeanBackward0>)\n"
     ]
    },
    {
     "name": "stderr",
     "output_type": "stream",
     "text": [
      "  9%|▉         | 262/2913 [00:13<02:04, 21.36it/s]"
     ]
    },
    {
     "name": "stdout",
     "output_type": "stream",
     "text": [
      "tensor(0.3464, device='cuda:0', grad_fn=<MeanBackward0>)\n",
      "tensor(0.3239, device='cuda:0', grad_fn=<MeanBackward0>)\n",
      "tensor(0.3527, device='cuda:0', grad_fn=<MeanBackward0>)\n",
      "tensor(0.3969, device='cuda:0', grad_fn=<MeanBackward0>)\n",
      "tensor(0.3254, device='cuda:0', grad_fn=<MeanBackward0>)\n"
     ]
    },
    {
     "name": "stderr",
     "output_type": "stream",
     "text": [
      "  9%|▉         | 268/2913 [00:13<02:05, 21.11it/s]"
     ]
    },
    {
     "name": "stdout",
     "output_type": "stream",
     "text": [
      "tensor(0.3409, device='cuda:0', grad_fn=<MeanBackward0>)\n",
      "tensor(0.2919, device='cuda:0', grad_fn=<MeanBackward0>)\n",
      "tensor(0.5737, device='cuda:0', grad_fn=<MeanBackward0>)\n",
      "tensor(0.2978, device='cuda:0', grad_fn=<MeanBackward0>)\n",
      "tensor(0.3266, device='cuda:0', grad_fn=<MeanBackward0>)\n"
     ]
    },
    {
     "name": "stderr",
     "output_type": "stream",
     "text": [
      "  9%|▉         | 271/2913 [00:13<02:11, 20.06it/s]"
     ]
    },
    {
     "name": "stdout",
     "output_type": "stream",
     "text": [
      "tensor(0.4345, device='cuda:0', grad_fn=<MeanBackward0>)\n",
      "tensor(0.3001, device='cuda:0', grad_fn=<MeanBackward0>)\n",
      "tensor(0.4017, device='cuda:0', grad_fn=<MeanBackward0>)\n",
      "tensor(0.2989, device='cuda:0', grad_fn=<MeanBackward0>)\n"
     ]
    },
    {
     "name": "stderr",
     "output_type": "stream",
     "text": [
      " 10%|▉         | 277/2913 [00:13<02:09, 20.37it/s]"
     ]
    },
    {
     "name": "stdout",
     "output_type": "stream",
     "text": [
      "tensor(0.3124, device='cuda:0', grad_fn=<MeanBackward0>)\n",
      "tensor(0.3440, device='cuda:0', grad_fn=<MeanBackward0>)\n",
      "tensor(0.2983, device='cuda:0', grad_fn=<MeanBackward0>)\n",
      "tensor(0.3234, device='cuda:0', grad_fn=<MeanBackward0>)\n",
      "tensor(0.3963, device='cuda:0', grad_fn=<MeanBackward0>)\n"
     ]
    },
    {
     "name": "stderr",
     "output_type": "stream",
     "text": [
      " 10%|▉         | 283/2913 [00:14<02:06, 20.71it/s]"
     ]
    },
    {
     "name": "stdout",
     "output_type": "stream",
     "text": [
      "tensor(0.3789, device='cuda:0', grad_fn=<MeanBackward0>)\n",
      "tensor(0.3018, device='cuda:0', grad_fn=<MeanBackward0>)\n",
      "tensor(0.3152, device='cuda:0', grad_fn=<MeanBackward0>)\n",
      "tensor(0.3332, device='cuda:0', grad_fn=<MeanBackward0>)\n",
      "tensor(0.3228, device='cuda:0', grad_fn=<MeanBackward0>)\n"
     ]
    },
    {
     "name": "stderr",
     "output_type": "stream",
     "text": [
      " 10%|▉         | 286/2913 [00:14<02:07, 20.58it/s]"
     ]
    },
    {
     "name": "stdout",
     "output_type": "stream",
     "text": [
      "tensor(0.2951, device='cuda:0', grad_fn=<MeanBackward0>)\n",
      "tensor(0.3181, device='cuda:0', grad_fn=<MeanBackward0>)\n",
      "tensor(0.3296, device='cuda:0', grad_fn=<MeanBackward0>)\n",
      "tensor(0.3716, device='cuda:0', grad_fn=<MeanBackward0>)\n",
      "tensor(0.3971, device='cuda:0', grad_fn=<MeanBackward0>)\n"
     ]
    },
    {
     "name": "stderr",
     "output_type": "stream",
     "text": [
      " 10%|█         | 292/2913 [00:14<02:06, 20.72it/s]"
     ]
    },
    {
     "name": "stdout",
     "output_type": "stream",
     "text": [
      "tensor(0.3213, device='cuda:0', grad_fn=<MeanBackward0>)\n",
      "tensor(0.3195, device='cuda:0', grad_fn=<MeanBackward0>)\n",
      "tensor(0.3198, device='cuda:0', grad_fn=<MeanBackward0>)\n",
      "tensor(0.3227, device='cuda:0', grad_fn=<MeanBackward0>)\n"
     ]
    },
    {
     "name": "stderr",
     "output_type": "stream",
     "text": [
      " 10%|█         | 295/2913 [00:14<02:07, 20.45it/s]"
     ]
    },
    {
     "name": "stdout",
     "output_type": "stream",
     "text": [
      "tensor(0.2911, device='cuda:0', grad_fn=<MeanBackward0>)\n",
      "tensor(0.3002, device='cuda:0', grad_fn=<MeanBackward0>)\n",
      "tensor(0.3963, device='cuda:0', grad_fn=<MeanBackward0>)\n",
      "tensor(0.3215, device='cuda:0', grad_fn=<MeanBackward0>)\n",
      "tensor(0.5222, device='cuda:0', grad_fn=<MeanBackward0>)\n"
     ]
    },
    {
     "name": "stderr",
     "output_type": "stream",
     "text": [
      " 10%|█         | 301/2913 [00:14<02:10, 20.02it/s]"
     ]
    },
    {
     "name": "stdout",
     "output_type": "stream",
     "text": [
      "tensor(0.3225, device='cuda:0', grad_fn=<MeanBackward0>)\n",
      "tensor(0.3094, device='cuda:0', grad_fn=<MeanBackward0>)\n",
      "tensor(0.3293, device='cuda:0', grad_fn=<MeanBackward0>)\n",
      "tensor(0.2981, device='cuda:0', grad_fn=<MeanBackward0>)\n"
     ]
    },
    {
     "name": "stderr",
     "output_type": "stream",
     "text": [
      " 10%|█         | 304/2913 [00:15<02:07, 20.51it/s]"
     ]
    },
    {
     "name": "stdout",
     "output_type": "stream",
     "text": [
      "tensor(0.3181, device='cuda:0', grad_fn=<MeanBackward0>)\n",
      "tensor(0.3219, device='cuda:0', grad_fn=<MeanBackward0>)\n",
      "tensor(0.3228, device='cuda:0', grad_fn=<MeanBackward0>)\n",
      "tensor(0.2963, device='cuda:0', grad_fn=<MeanBackward0>)\n",
      "tensor(0.3041, device='cuda:0', grad_fn=<MeanBackward0>)\n"
     ]
    },
    {
     "name": "stderr",
     "output_type": "stream",
     "text": [
      " 11%|█         | 310/2913 [00:15<02:08, 20.19it/s]"
     ]
    },
    {
     "name": "stdout",
     "output_type": "stream",
     "text": [
      "tensor(0.3238, device='cuda:0', grad_fn=<MeanBackward0>)\n",
      "tensor(0.3266, device='cuda:0', grad_fn=<MeanBackward0>)\n",
      "tensor(0.3326, device='cuda:0', grad_fn=<MeanBackward0>)\n",
      "tensor(0.3060, device='cuda:0', grad_fn=<MeanBackward0>)\n"
     ]
    },
    {
     "name": "stderr",
     "output_type": "stream",
     "text": [
      " 11%|█         | 313/2913 [00:15<02:07, 20.34it/s]"
     ]
    },
    {
     "name": "stdout",
     "output_type": "stream",
     "text": [
      "tensor(0.3070, device='cuda:0', grad_fn=<MeanBackward0>)\n",
      "tensor(0.2997, device='cuda:0', grad_fn=<MeanBackward0>)\n",
      "tensor(0.3121, device='cuda:0', grad_fn=<MeanBackward0>)\n",
      "tensor(0.3474, device='cuda:0', grad_fn=<MeanBackward0>)\n",
      "tensor(0.4500, device='cuda:0', grad_fn=<MeanBackward0>)\n"
     ]
    },
    {
     "name": "stderr",
     "output_type": "stream",
     "text": [
      " 11%|█         | 319/2913 [00:15<02:06, 20.50it/s]"
     ]
    },
    {
     "name": "stdout",
     "output_type": "stream",
     "text": [
      "tensor(0.3813, device='cuda:0', grad_fn=<MeanBackward0>)\n",
      "tensor(0.3024, device='cuda:0', grad_fn=<MeanBackward0>)\n",
      "tensor(0.3893, device='cuda:0', grad_fn=<MeanBackward0>)\n",
      "tensor(0.3373, device='cuda:0', grad_fn=<MeanBackward0>)\n"
     ]
    },
    {
     "name": "stderr",
     "output_type": "stream",
     "text": [
      " 11%|█         | 322/2913 [00:15<02:07, 20.39it/s]"
     ]
    },
    {
     "name": "stdout",
     "output_type": "stream",
     "text": [
      "tensor(0.3193, device='cuda:0', grad_fn=<MeanBackward0>)\n",
      "tensor(0.2236, device='cuda:0', grad_fn=<MeanBackward0>)\n",
      "tensor(0.3195, device='cuda:0', grad_fn=<MeanBackward0>)\n",
      "tensor(0.3237, device='cuda:0', grad_fn=<MeanBackward0>)\n",
      "tensor(0.3163, device='cuda:0', grad_fn=<MeanBackward0>)\n"
     ]
    },
    {
     "name": "stderr",
     "output_type": "stream",
     "text": [
      " 11%|█▏        | 328/2913 [00:16<02:05, 20.53it/s]"
     ]
    },
    {
     "name": "stdout",
     "output_type": "stream",
     "text": [
      "tensor(0.4491, device='cuda:0', grad_fn=<MeanBackward0>)\n",
      "tensor(0.2725, device='cuda:0', grad_fn=<MeanBackward0>)\n",
      "tensor(0.3056, device='cuda:0', grad_fn=<MeanBackward0>)\n",
      "tensor(0.3718, device='cuda:0', grad_fn=<MeanBackward0>)\n"
     ]
    },
    {
     "name": "stderr",
     "output_type": "stream",
     "text": [
      " 11%|█▏        | 331/2913 [00:16<02:12, 19.41it/s]"
     ]
    },
    {
     "name": "stdout",
     "output_type": "stream",
     "text": [
      "tensor(0.2952, device='cuda:0', grad_fn=<MeanBackward0>)\n",
      "tensor(0.4392, device='cuda:0', grad_fn=<MeanBackward0>)\n",
      "tensor(0.4019, device='cuda:0', grad_fn=<MeanBackward0>)\n",
      "tensor(0.3390, device='cuda:0', grad_fn=<MeanBackward0>)\n"
     ]
    },
    {
     "name": "stderr",
     "output_type": "stream",
     "text": [
      " 12%|█▏        | 337/2913 [00:16<02:06, 20.29it/s]"
     ]
    },
    {
     "name": "stdout",
     "output_type": "stream",
     "text": [
      "tensor(0.2776, device='cuda:0', grad_fn=<MeanBackward0>)\n",
      "tensor(0.3165, device='cuda:0', grad_fn=<MeanBackward0>)\n",
      "tensor(0.3270, device='cuda:0', grad_fn=<MeanBackward0>)\n",
      "tensor(0.3231, device='cuda:0', grad_fn=<MeanBackward0>)\n",
      "tensor(0.3939, device='cuda:0', grad_fn=<MeanBackward0>)\n"
     ]
    },
    {
     "name": "stderr",
     "output_type": "stream",
     "text": [
      " 12%|█▏        | 340/2913 [00:16<02:06, 20.28it/s]"
     ]
    },
    {
     "name": "stdout",
     "output_type": "stream",
     "text": [
      "tensor(0.3112, device='cuda:0', grad_fn=<MeanBackward0>)\n",
      "tensor(0.3655, device='cuda:0', grad_fn=<MeanBackward0>)\n",
      "tensor(0.2925, device='cuda:0', grad_fn=<MeanBackward0>)\n",
      "tensor(0.3252, device='cuda:0', grad_fn=<MeanBackward0>)\n",
      "tensor(0.3041, device='cuda:0', grad_fn=<MeanBackward0>)\n"
     ]
    },
    {
     "name": "stderr",
     "output_type": "stream",
     "text": [
      " 12%|█▏        | 346/2913 [00:17<02:05, 20.50it/s]"
     ]
    },
    {
     "name": "stdout",
     "output_type": "stream",
     "text": [
      "tensor(0.3771, device='cuda:0', grad_fn=<MeanBackward0>)\n",
      "tensor(0.2930, device='cuda:0', grad_fn=<MeanBackward0>)\n",
      "tensor(0.2971, device='cuda:0', grad_fn=<MeanBackward0>)\n",
      "tensor(0.4007, device='cuda:0', grad_fn=<MeanBackward0>)\n"
     ]
    },
    {
     "name": "stderr",
     "output_type": "stream",
     "text": [
      " 12%|█▏        | 349/2913 [00:17<02:02, 20.99it/s]"
     ]
    },
    {
     "name": "stdout",
     "output_type": "stream",
     "text": [
      "tensor(0.4056, device='cuda:0', grad_fn=<MeanBackward0>)\n",
      "tensor(0.3248, device='cuda:0', grad_fn=<MeanBackward0>)\n",
      "tensor(0.3176, device='cuda:0', grad_fn=<MeanBackward0>)\n",
      "tensor(0.2967, device='cuda:0', grad_fn=<MeanBackward0>)\n"
     ]
    },
    {
     "name": "stderr",
     "output_type": "stream",
     "text": [
      " 12%|█▏        | 355/2913 [00:17<02:05, 20.45it/s]"
     ]
    },
    {
     "name": "stdout",
     "output_type": "stream",
     "text": [
      "tensor(0.4259, device='cuda:0', grad_fn=<MeanBackward0>)\n",
      "tensor(0.3055, device='cuda:0', grad_fn=<MeanBackward0>)\n",
      "tensor(0.2812, device='cuda:0', grad_fn=<MeanBackward0>)\n",
      "tensor(0.3210, device='cuda:0', grad_fn=<MeanBackward0>)\n",
      "tensor(0.3406, device='cuda:0', grad_fn=<MeanBackward0>)\n"
     ]
    },
    {
     "name": "stderr",
     "output_type": "stream",
     "text": [
      " 12%|█▏        | 358/2913 [00:17<02:04, 20.60it/s]"
     ]
    },
    {
     "name": "stdout",
     "output_type": "stream",
     "text": [
      "tensor(0.3271, device='cuda:0', grad_fn=<MeanBackward0>)\n",
      "tensor(0.3471, device='cuda:0', grad_fn=<MeanBackward0>)\n",
      "tensor(0.3038, device='cuda:0', grad_fn=<MeanBackward0>)\n",
      "tensor(0.2965, device='cuda:0', grad_fn=<MeanBackward0>)\n",
      "tensor(0.2986, device='cuda:0', grad_fn=<MeanBackward0>)\n"
     ]
    },
    {
     "name": "stderr",
     "output_type": "stream",
     "text": [
      " 12%|█▏        | 364/2913 [00:18<02:05, 20.31it/s]"
     ]
    },
    {
     "name": "stdout",
     "output_type": "stream",
     "text": [
      "tensor(0.2797, device='cuda:0', grad_fn=<MeanBackward0>)\n",
      "tensor(0.3054, device='cuda:0', grad_fn=<MeanBackward0>)\n",
      "tensor(0.3812, device='cuda:0', grad_fn=<MeanBackward0>)\n",
      "tensor(0.3178, device='cuda:0', grad_fn=<MeanBackward0>)\n",
      "tensor(0.3087, device='cuda:0', grad_fn=<MeanBackward0>)\n"
     ]
    },
    {
     "name": "stderr",
     "output_type": "stream",
     "text": [
      " 13%|█▎        | 367/2913 [00:18<02:03, 20.63it/s]"
     ]
    },
    {
     "name": "stdout",
     "output_type": "stream",
     "text": [
      "tensor(0.2547, device='cuda:0', grad_fn=<MeanBackward0>)\n",
      "tensor(0.3075, device='cuda:0', grad_fn=<MeanBackward0>)\n",
      "tensor(0.2999, device='cuda:0', grad_fn=<MeanBackward0>)\n",
      "tensor(0.3063, device='cuda:0', grad_fn=<MeanBackward0>)\n"
     ]
    },
    {
     "name": "stderr",
     "output_type": "stream",
     "text": [
      " 13%|█▎        | 373/2913 [00:18<02:07, 19.91it/s]"
     ]
    },
    {
     "name": "stdout",
     "output_type": "stream",
     "text": [
      "tensor(0.2860, device='cuda:0', grad_fn=<MeanBackward0>)\n",
      "tensor(0.3214, device='cuda:0', grad_fn=<MeanBackward0>)\n",
      "tensor(0.3180, device='cuda:0', grad_fn=<MeanBackward0>)\n",
      "tensor(0.3944, device='cuda:0', grad_fn=<MeanBackward0>)\n",
      "tensor(0.3434, device='cuda:0', grad_fn=<MeanBackward0>)\n"
     ]
    },
    {
     "name": "stderr",
     "output_type": "stream",
     "text": [
      " 13%|█▎        | 379/2913 [00:18<02:04, 20.43it/s]"
     ]
    },
    {
     "name": "stdout",
     "output_type": "stream",
     "text": [
      "tensor(0.3075, device='cuda:0', grad_fn=<MeanBackward0>)\n",
      "tensor(0.3108, device='cuda:0', grad_fn=<MeanBackward0>)\n",
      "tensor(0.2867, device='cuda:0', grad_fn=<MeanBackward0>)\n",
      "tensor(0.3037, device='cuda:0', grad_fn=<MeanBackward0>)\n",
      "tensor(0.4330, device='cuda:0', grad_fn=<MeanBackward0>)\n"
     ]
    },
    {
     "name": "stderr",
     "output_type": "stream",
     "text": [
      " 13%|█▎        | 382/2913 [00:18<02:06, 20.01it/s]"
     ]
    },
    {
     "name": "stdout",
     "output_type": "stream",
     "text": [
      "tensor(0.3364, device='cuda:0', grad_fn=<MeanBackward0>)\n",
      "tensor(0.4248, device='cuda:0', grad_fn=<MeanBackward0>)\n",
      "tensor(0.2328, device='cuda:0', grad_fn=<MeanBackward0>)\n",
      "tensor(0.3136, device='cuda:0', grad_fn=<MeanBackward0>)\n",
      "tensor(0.3092, device='cuda:0', grad_fn=<MeanBackward0>)\n"
     ]
    },
    {
     "name": "stderr",
     "output_type": "stream",
     "text": [
      " 13%|█▎        | 388/2913 [00:19<02:03, 20.44it/s]"
     ]
    },
    {
     "name": "stdout",
     "output_type": "stream",
     "text": [
      "tensor(0.3815, device='cuda:0', grad_fn=<MeanBackward0>)\n",
      "tensor(0.3891, device='cuda:0', grad_fn=<MeanBackward0>)\n",
      "tensor(0.3050, device='cuda:0', grad_fn=<MeanBackward0>)\n",
      "tensor(0.3129, device='cuda:0', grad_fn=<MeanBackward0>)\n"
     ]
    },
    {
     "name": "stderr",
     "output_type": "stream",
     "text": [
      " 13%|█▎        | 391/2913 [00:19<02:09, 19.55it/s]"
     ]
    },
    {
     "name": "stdout",
     "output_type": "stream",
     "text": [
      "tensor(0.4247, device='cuda:0', grad_fn=<MeanBackward0>)\n",
      "tensor(0.2999, device='cuda:0', grad_fn=<MeanBackward0>)\n",
      "tensor(0.2759, device='cuda:0', grad_fn=<MeanBackward0>)\n",
      "tensor(0.2672, device='cuda:0', grad_fn=<MeanBackward0>)\n"
     ]
    },
    {
     "name": "stderr",
     "output_type": "stream",
     "text": [
      " 14%|█▎        | 396/2913 [00:19<02:06, 19.90it/s]"
     ]
    },
    {
     "name": "stdout",
     "output_type": "stream",
     "text": [
      "tensor(0.2883, device='cuda:0', grad_fn=<MeanBackward0>)\n",
      "tensor(0.3757, device='cuda:0', grad_fn=<MeanBackward0>)\n",
      "tensor(0.4034, device='cuda:0', grad_fn=<MeanBackward0>)\n",
      "tensor(0.3579, device='cuda:0', grad_fn=<MeanBackward0>)\n",
      "tensor(0.3111, device='cuda:0', grad_fn=<MeanBackward0>)\n"
     ]
    },
    {
     "name": "stderr",
     "output_type": "stream",
     "text": [
      " 14%|█▍        | 401/2913 [00:19<02:07, 19.68it/s]"
     ]
    },
    {
     "name": "stdout",
     "output_type": "stream",
     "text": [
      "tensor(0.3162, device='cuda:0', grad_fn=<MeanBackward0>)\n",
      "tensor(0.2849, device='cuda:0', grad_fn=<MeanBackward0>)\n",
      "tensor(0.3747, device='cuda:0', grad_fn=<MeanBackward0>)\n",
      "tensor(0.3126, device='cuda:0', grad_fn=<MeanBackward0>)\n",
      "tensor(0.3062, device='cuda:0', grad_fn=<MeanBackward0>)\n"
     ]
    },
    {
     "name": "stderr",
     "output_type": "stream",
     "text": [
      " 14%|█▍        | 406/2913 [00:20<02:04, 20.06it/s]"
     ]
    },
    {
     "name": "stdout",
     "output_type": "stream",
     "text": [
      "tensor(0.2726, device='cuda:0', grad_fn=<MeanBackward0>)\n",
      "tensor(0.3142, device='cuda:0', grad_fn=<MeanBackward0>)\n",
      "tensor(0.3197, device='cuda:0', grad_fn=<MeanBackward0>)\n",
      "tensor(0.3938, device='cuda:0', grad_fn=<MeanBackward0>)\n",
      "tensor(0.3537, device='cuda:0', grad_fn=<MeanBackward0>)\n"
     ]
    },
    {
     "name": "stderr",
     "output_type": "stream",
     "text": [
      " 14%|█▍        | 412/2913 [00:20<02:05, 19.93it/s]"
     ]
    },
    {
     "name": "stdout",
     "output_type": "stream",
     "text": [
      "tensor(0.3027, device='cuda:0', grad_fn=<MeanBackward0>)\n",
      "tensor(0.2912, device='cuda:0', grad_fn=<MeanBackward0>)\n",
      "tensor(0.2414, device='cuda:0', grad_fn=<MeanBackward0>)\n",
      "tensor(0.3576, device='cuda:0', grad_fn=<MeanBackward0>)\n",
      "tensor(0.3331, device='cuda:0', grad_fn=<MeanBackward0>)\n"
     ]
    },
    {
     "name": "stderr",
     "output_type": "stream",
     "text": [
      " 14%|█▍        | 417/2913 [00:20<02:04, 20.13it/s]"
     ]
    },
    {
     "name": "stdout",
     "output_type": "stream",
     "text": [
      "tensor(0.3599, device='cuda:0', grad_fn=<MeanBackward0>)\n",
      "tensor(0.2045, device='cuda:0', grad_fn=<MeanBackward0>)\n",
      "tensor(0.2957, device='cuda:0', grad_fn=<MeanBackward0>)\n",
      "tensor(0.3117, device='cuda:0', grad_fn=<MeanBackward0>)\n",
      "tensor(0.3625, device='cuda:0', grad_fn=<MeanBackward0>)\n"
     ]
    },
    {
     "name": "stderr",
     "output_type": "stream",
     "text": [
      " 14%|█▍        | 420/2913 [00:20<02:00, 20.66it/s]"
     ]
    },
    {
     "name": "stdout",
     "output_type": "stream",
     "text": [
      "tensor(0.3081, device='cuda:0', grad_fn=<MeanBackward0>)\n",
      "tensor(0.3164, device='cuda:0', grad_fn=<MeanBackward0>)\n",
      "tensor(0.3164, device='cuda:0', grad_fn=<MeanBackward0>)\n",
      "tensor(0.2826, device='cuda:0', grad_fn=<MeanBackward0>)\n",
      "tensor(0.2398, device='cuda:0', grad_fn=<MeanBackward0>)\n"
     ]
    },
    {
     "name": "stderr",
     "output_type": "stream",
     "text": [
      " 15%|█▍        | 426/2913 [00:21<01:59, 20.81it/s]"
     ]
    },
    {
     "name": "stdout",
     "output_type": "stream",
     "text": [
      "tensor(0.3182, device='cuda:0', grad_fn=<MeanBackward0>)\n",
      "tensor(0.3158, device='cuda:0', grad_fn=<MeanBackward0>)\n",
      "tensor(0.2633, device='cuda:0', grad_fn=<MeanBackward0>)\n",
      "tensor(0.3080, device='cuda:0', grad_fn=<MeanBackward0>)\n",
      "tensor(0.2942, device='cuda:0', grad_fn=<MeanBackward0>)\n"
     ]
    },
    {
     "name": "stderr",
     "output_type": "stream",
     "text": [
      " 15%|█▍        | 429/2913 [00:21<02:00, 20.56it/s]"
     ]
    },
    {
     "name": "stdout",
     "output_type": "stream",
     "text": [
      "tensor(0.2860, device='cuda:0', grad_fn=<MeanBackward0>)\n",
      "tensor(0.2937, device='cuda:0', grad_fn=<MeanBackward0>)\n",
      "tensor(0.2959, device='cuda:0', grad_fn=<MeanBackward0>)\n",
      "tensor(0.2489, device='cuda:0', grad_fn=<MeanBackward0>)\n"
     ]
    },
    {
     "name": "stderr",
     "output_type": "stream",
     "text": [
      " 15%|█▍        | 435/2913 [00:21<02:07, 19.44it/s]"
     ]
    },
    {
     "name": "stdout",
     "output_type": "stream",
     "text": [
      "tensor(0.3083, device='cuda:0', grad_fn=<MeanBackward0>)\n",
      "tensor(0.2910, device='cuda:0', grad_fn=<MeanBackward0>)\n",
      "tensor(0.2819, device='cuda:0', grad_fn=<MeanBackward0>)\n",
      "tensor(0.2729, device='cuda:0', grad_fn=<MeanBackward0>)\n"
     ]
    },
    {
     "name": "stderr",
     "output_type": "stream",
     "text": [
      " 15%|█▌        | 438/2913 [00:21<02:02, 20.17it/s]"
     ]
    },
    {
     "name": "stdout",
     "output_type": "stream",
     "text": [
      "tensor(0.3701, device='cuda:0', grad_fn=<MeanBackward0>)\n",
      "tensor(0.3045, device='cuda:0', grad_fn=<MeanBackward0>)\n",
      "tensor(0.3689, device='cuda:0', grad_fn=<MeanBackward0>)\n",
      "tensor(0.3727, device='cuda:0', grad_fn=<MeanBackward0>)\n",
      "tensor(0.4320, device='cuda:0', grad_fn=<MeanBackward0>)\n"
     ]
    },
    {
     "name": "stderr",
     "output_type": "stream",
     "text": [
      " 15%|█▌        | 444/2913 [00:22<02:06, 19.48it/s]"
     ]
    },
    {
     "name": "stdout",
     "output_type": "stream",
     "text": [
      "tensor(0.3829, device='cuda:0', grad_fn=<MeanBackward0>)\n",
      "tensor(0.2824, device='cuda:0', grad_fn=<MeanBackward0>)\n",
      "tensor(0.2809, device='cuda:0', grad_fn=<MeanBackward0>)\n",
      "tensor(0.3036, device='cuda:0', grad_fn=<MeanBackward0>)\n"
     ]
    },
    {
     "name": "stderr",
     "output_type": "stream",
     "text": [
      " 15%|█▌        | 447/2913 [00:22<02:03, 19.98it/s]"
     ]
    },
    {
     "name": "stdout",
     "output_type": "stream",
     "text": [
      "tensor(0.3735, device='cuda:0', grad_fn=<MeanBackward0>)\n",
      "tensor(0.2395, device='cuda:0', grad_fn=<MeanBackward0>)\n",
      "tensor(0.2888, device='cuda:0', grad_fn=<MeanBackward0>)\n",
      "tensor(0.2941, device='cuda:0', grad_fn=<MeanBackward0>)\n",
      "tensor(0.3241, device='cuda:0', grad_fn=<MeanBackward0>)\n"
     ]
    },
    {
     "name": "stderr",
     "output_type": "stream",
     "text": [
      " 16%|█▌        | 453/2913 [00:22<02:03, 19.95it/s]"
     ]
    },
    {
     "name": "stdout",
     "output_type": "stream",
     "text": [
      "tensor(0.3078, device='cuda:0', grad_fn=<MeanBackward0>)\n",
      "tensor(0.3749, device='cuda:0', grad_fn=<MeanBackward0>)\n",
      "tensor(0.2831, device='cuda:0', grad_fn=<MeanBackward0>)\n",
      "tensor(0.2914, device='cuda:0', grad_fn=<MeanBackward0>)\n",
      "tensor(0.3284, device='cuda:0', grad_fn=<MeanBackward0>)\n"
     ]
    },
    {
     "name": "stderr",
     "output_type": "stream",
     "text": [
      " 16%|█▌        | 458/2913 [00:22<02:01, 20.18it/s]"
     ]
    },
    {
     "name": "stdout",
     "output_type": "stream",
     "text": [
      "tensor(0.3523, device='cuda:0', grad_fn=<MeanBackward0>)\n",
      "tensor(0.3036, device='cuda:0', grad_fn=<MeanBackward0>)\n",
      "tensor(0.3038, device='cuda:0', grad_fn=<MeanBackward0>)\n",
      "tensor(0.2853, device='cuda:0', grad_fn=<MeanBackward0>)\n"
     ]
    },
    {
     "name": "stderr",
     "output_type": "stream",
     "text": [
      "\n"
     ]
    },
    {
     "ename": "KeyboardInterrupt",
     "evalue": "",
     "output_type": "error",
     "traceback": [
      "\u001b[1;31m---------------------------------------------------------------------------\u001b[0m",
      "\u001b[1;31mKeyboardInterrupt\u001b[0m                         Traceback (most recent call last)",
      "\u001b[1;32m~\\AppData\\Local\\Temp\\ipykernel_21104\\2956359309.py\u001b[0m in \u001b[0;36m<module>\u001b[1;34m\u001b[0m\n\u001b[0;32m      3\u001b[0m     \u001b[0mimg\u001b[0m \u001b[1;33m=\u001b[0m \u001b[0mpack\u001b[0m\u001b[1;33m[\u001b[0m\u001b[1;34m'img'\u001b[0m\u001b[1;33m]\u001b[0m\u001b[1;33m.\u001b[0m\u001b[0mto\u001b[0m\u001b[1;33m(\u001b[0m\u001b[0mdevice\u001b[0m\u001b[1;33m)\u001b[0m\u001b[1;33m\u001b[0m\u001b[1;33m\u001b[0m\u001b[0m\n\u001b[0;32m      4\u001b[0m     \u001b[0mlabel\u001b[0m \u001b[1;33m=\u001b[0m \u001b[0mpack\u001b[0m\u001b[1;33m[\u001b[0m\u001b[1;34m'label'\u001b[0m\u001b[1;33m]\u001b[0m\u001b[1;33m.\u001b[0m\u001b[0mto\u001b[0m\u001b[1;33m(\u001b[0m\u001b[0mdevice\u001b[0m\u001b[1;33m)\u001b[0m\u001b[1;33m\u001b[0m\u001b[1;33m\u001b[0m\u001b[0m\n\u001b[1;32m----> 5\u001b[1;33m     \u001b[0mx\u001b[0m \u001b[1;33m=\u001b[0m \u001b[0mmodel\u001b[0m\u001b[1;33m(\u001b[0m\u001b[0mimg\u001b[0m\u001b[1;33m)\u001b[0m\u001b[1;33m\u001b[0m\u001b[1;33m\u001b[0m\u001b[0m\n\u001b[0m\u001b[0;32m      6\u001b[0m     \u001b[0mloss1\u001b[0m \u001b[1;33m=\u001b[0m \u001b[0mF\u001b[0m\u001b[1;33m.\u001b[0m\u001b[0mmultilabel_soft_margin_loss\u001b[0m\u001b[1;33m(\u001b[0m\u001b[0mx\u001b[0m\u001b[1;33m,\u001b[0m \u001b[0mlabel\u001b[0m\u001b[1;33m)\u001b[0m\u001b[1;33m\u001b[0m\u001b[1;33m\u001b[0m\u001b[0m\n\u001b[0;32m      7\u001b[0m \u001b[1;33m\u001b[0m\u001b[0m\n",
      "\u001b[1;32mc:\\Users\\user\\anaconda3\\lib\\site-packages\\torch\\nn\\modules\\module.py\u001b[0m in \u001b[0;36m_call_impl\u001b[1;34m(self, *input, **kwargs)\u001b[0m\n\u001b[0;32m   1192\u001b[0m         if not (self._backward_hooks or self._forward_hooks or self._forward_pre_hooks or _global_backward_hooks\n\u001b[0;32m   1193\u001b[0m                 or _global_forward_hooks or _global_forward_pre_hooks):\n\u001b[1;32m-> 1194\u001b[1;33m             \u001b[1;32mreturn\u001b[0m \u001b[0mforward_call\u001b[0m\u001b[1;33m(\u001b[0m\u001b[1;33m*\u001b[0m\u001b[0minput\u001b[0m\u001b[1;33m,\u001b[0m \u001b[1;33m**\u001b[0m\u001b[0mkwargs\u001b[0m\u001b[1;33m)\u001b[0m\u001b[1;33m\u001b[0m\u001b[1;33m\u001b[0m\u001b[0m\n\u001b[0m\u001b[0;32m   1195\u001b[0m         \u001b[1;31m# Do not call functions when jit is used\u001b[0m\u001b[1;33m\u001b[0m\u001b[1;33m\u001b[0m\u001b[0m\n\u001b[0;32m   1196\u001b[0m         \u001b[0mfull_backward_hooks\u001b[0m\u001b[1;33m,\u001b[0m \u001b[0mnon_full_backward_hooks\u001b[0m \u001b[1;33m=\u001b[0m \u001b[1;33m[\u001b[0m\u001b[1;33m]\u001b[0m\u001b[1;33m,\u001b[0m \u001b[1;33m[\u001b[0m\u001b[1;33m]\u001b[0m\u001b[1;33m\u001b[0m\u001b[1;33m\u001b[0m\u001b[0m\n",
      "\u001b[1;32mc:\\Users\\user\\woonho\\voc_cam\\net\\resnet50_cam.py\u001b[0m in \u001b[0;36mforward\u001b[1;34m(self, x)\u001b[0m\n\u001b[0;32m     25\u001b[0m     \u001b[1;32mdef\u001b[0m \u001b[0mforward\u001b[0m\u001b[1;33m(\u001b[0m\u001b[0mself\u001b[0m\u001b[1;33m,\u001b[0m \u001b[0mx\u001b[0m\u001b[1;33m)\u001b[0m\u001b[1;33m:\u001b[0m\u001b[1;33m\u001b[0m\u001b[1;33m\u001b[0m\u001b[0m\n\u001b[0;32m     26\u001b[0m \u001b[1;33m\u001b[0m\u001b[0m\n\u001b[1;32m---> 27\u001b[1;33m         \u001b[0mx\u001b[0m \u001b[1;33m=\u001b[0m \u001b[0mself\u001b[0m\u001b[1;33m.\u001b[0m\u001b[0mstage1\u001b[0m\u001b[1;33m(\u001b[0m\u001b[0mx\u001b[0m\u001b[1;33m)\u001b[0m\u001b[1;33m\u001b[0m\u001b[1;33m\u001b[0m\u001b[0m\n\u001b[0m\u001b[0;32m     28\u001b[0m         \u001b[0mx\u001b[0m \u001b[1;33m=\u001b[0m \u001b[0mself\u001b[0m\u001b[1;33m.\u001b[0m\u001b[0mstage2\u001b[0m\u001b[1;33m(\u001b[0m\u001b[0mx\u001b[0m\u001b[1;33m)\u001b[0m\u001b[1;33m.\u001b[0m\u001b[0mdetach\u001b[0m\u001b[1;33m(\u001b[0m\u001b[1;33m)\u001b[0m\u001b[1;33m\u001b[0m\u001b[1;33m\u001b[0m\u001b[0m\n\u001b[0;32m     29\u001b[0m \u001b[1;33m\u001b[0m\u001b[0m\n",
      "\u001b[1;32mc:\\Users\\user\\anaconda3\\lib\\site-packages\\torch\\nn\\modules\\module.py\u001b[0m in \u001b[0;36m_call_impl\u001b[1;34m(self, *input, **kwargs)\u001b[0m\n\u001b[0;32m   1192\u001b[0m         if not (self._backward_hooks or self._forward_hooks or self._forward_pre_hooks or _global_backward_hooks\n\u001b[0;32m   1193\u001b[0m                 or _global_forward_hooks or _global_forward_pre_hooks):\n\u001b[1;32m-> 1194\u001b[1;33m             \u001b[1;32mreturn\u001b[0m \u001b[0mforward_call\u001b[0m\u001b[1;33m(\u001b[0m\u001b[1;33m*\u001b[0m\u001b[0minput\u001b[0m\u001b[1;33m,\u001b[0m \u001b[1;33m**\u001b[0m\u001b[0mkwargs\u001b[0m\u001b[1;33m)\u001b[0m\u001b[1;33m\u001b[0m\u001b[1;33m\u001b[0m\u001b[0m\n\u001b[0m\u001b[0;32m   1195\u001b[0m         \u001b[1;31m# Do not call functions when jit is used\u001b[0m\u001b[1;33m\u001b[0m\u001b[1;33m\u001b[0m\u001b[0m\n\u001b[0;32m   1196\u001b[0m         \u001b[0mfull_backward_hooks\u001b[0m\u001b[1;33m,\u001b[0m \u001b[0mnon_full_backward_hooks\u001b[0m \u001b[1;33m=\u001b[0m \u001b[1;33m[\u001b[0m\u001b[1;33m]\u001b[0m\u001b[1;33m,\u001b[0m \u001b[1;33m[\u001b[0m\u001b[1;33m]\u001b[0m\u001b[1;33m\u001b[0m\u001b[1;33m\u001b[0m\u001b[0m\n",
      "\u001b[1;32mc:\\Users\\user\\anaconda3\\lib\\site-packages\\torch\\nn\\modules\\container.py\u001b[0m in \u001b[0;36mforward\u001b[1;34m(self, input)\u001b[0m\n\u001b[0;32m    202\u001b[0m     \u001b[1;32mdef\u001b[0m \u001b[0mforward\u001b[0m\u001b[1;33m(\u001b[0m\u001b[0mself\u001b[0m\u001b[1;33m,\u001b[0m \u001b[0minput\u001b[0m\u001b[1;33m)\u001b[0m\u001b[1;33m:\u001b[0m\u001b[1;33m\u001b[0m\u001b[1;33m\u001b[0m\u001b[0m\n\u001b[0;32m    203\u001b[0m         \u001b[1;32mfor\u001b[0m \u001b[0mmodule\u001b[0m \u001b[1;32min\u001b[0m \u001b[0mself\u001b[0m\u001b[1;33m:\u001b[0m\u001b[1;33m\u001b[0m\u001b[1;33m\u001b[0m\u001b[0m\n\u001b[1;32m--> 204\u001b[1;33m             \u001b[0minput\u001b[0m \u001b[1;33m=\u001b[0m \u001b[0mmodule\u001b[0m\u001b[1;33m(\u001b[0m\u001b[0minput\u001b[0m\u001b[1;33m)\u001b[0m\u001b[1;33m\u001b[0m\u001b[1;33m\u001b[0m\u001b[0m\n\u001b[0m\u001b[0;32m    205\u001b[0m         \u001b[1;32mreturn\u001b[0m \u001b[0minput\u001b[0m\u001b[1;33m\u001b[0m\u001b[1;33m\u001b[0m\u001b[0m\n\u001b[0;32m    206\u001b[0m \u001b[1;33m\u001b[0m\u001b[0m\n",
      "\u001b[1;32mc:\\Users\\user\\anaconda3\\lib\\site-packages\\torch\\nn\\modules\\module.py\u001b[0m in \u001b[0;36m_call_impl\u001b[1;34m(self, *input, **kwargs)\u001b[0m\n\u001b[0;32m   1192\u001b[0m         if not (self._backward_hooks or self._forward_hooks or self._forward_pre_hooks or _global_backward_hooks\n\u001b[0;32m   1193\u001b[0m                 or _global_forward_hooks or _global_forward_pre_hooks):\n\u001b[1;32m-> 1194\u001b[1;33m             \u001b[1;32mreturn\u001b[0m \u001b[0mforward_call\u001b[0m\u001b[1;33m(\u001b[0m\u001b[1;33m*\u001b[0m\u001b[0minput\u001b[0m\u001b[1;33m,\u001b[0m \u001b[1;33m**\u001b[0m\u001b[0mkwargs\u001b[0m\u001b[1;33m)\u001b[0m\u001b[1;33m\u001b[0m\u001b[1;33m\u001b[0m\u001b[0m\n\u001b[0m\u001b[0;32m   1195\u001b[0m         \u001b[1;31m# Do not call functions when jit is used\u001b[0m\u001b[1;33m\u001b[0m\u001b[1;33m\u001b[0m\u001b[0m\n\u001b[0;32m   1196\u001b[0m         \u001b[0mfull_backward_hooks\u001b[0m\u001b[1;33m,\u001b[0m \u001b[0mnon_full_backward_hooks\u001b[0m \u001b[1;33m=\u001b[0m \u001b[1;33m[\u001b[0m\u001b[1;33m]\u001b[0m\u001b[1;33m,\u001b[0m \u001b[1;33m[\u001b[0m\u001b[1;33m]\u001b[0m\u001b[1;33m\u001b[0m\u001b[1;33m\u001b[0m\u001b[0m\n",
      "\u001b[1;32mc:\\Users\\user\\anaconda3\\lib\\site-packages\\torch\\nn\\modules\\container.py\u001b[0m in \u001b[0;36mforward\u001b[1;34m(self, input)\u001b[0m\n\u001b[0;32m    202\u001b[0m     \u001b[1;32mdef\u001b[0m \u001b[0mforward\u001b[0m\u001b[1;33m(\u001b[0m\u001b[0mself\u001b[0m\u001b[1;33m,\u001b[0m \u001b[0minput\u001b[0m\u001b[1;33m)\u001b[0m\u001b[1;33m:\u001b[0m\u001b[1;33m\u001b[0m\u001b[1;33m\u001b[0m\u001b[0m\n\u001b[0;32m    203\u001b[0m         \u001b[1;32mfor\u001b[0m \u001b[0mmodule\u001b[0m \u001b[1;32min\u001b[0m \u001b[0mself\u001b[0m\u001b[1;33m:\u001b[0m\u001b[1;33m\u001b[0m\u001b[1;33m\u001b[0m\u001b[0m\n\u001b[1;32m--> 204\u001b[1;33m             \u001b[0minput\u001b[0m \u001b[1;33m=\u001b[0m \u001b[0mmodule\u001b[0m\u001b[1;33m(\u001b[0m\u001b[0minput\u001b[0m\u001b[1;33m)\u001b[0m\u001b[1;33m\u001b[0m\u001b[1;33m\u001b[0m\u001b[0m\n\u001b[0m\u001b[0;32m    205\u001b[0m         \u001b[1;32mreturn\u001b[0m \u001b[0minput\u001b[0m\u001b[1;33m\u001b[0m\u001b[1;33m\u001b[0m\u001b[0m\n\u001b[0;32m    206\u001b[0m \u001b[1;33m\u001b[0m\u001b[0m\n",
      "\u001b[1;32mc:\\Users\\user\\anaconda3\\lib\\site-packages\\torch\\nn\\modules\\module.py\u001b[0m in \u001b[0;36m_call_impl\u001b[1;34m(self, *input, **kwargs)\u001b[0m\n\u001b[0;32m   1192\u001b[0m         if not (self._backward_hooks or self._forward_hooks or self._forward_pre_hooks or _global_backward_hooks\n\u001b[0;32m   1193\u001b[0m                 or _global_forward_hooks or _global_forward_pre_hooks):\n\u001b[1;32m-> 1194\u001b[1;33m             \u001b[1;32mreturn\u001b[0m \u001b[0mforward_call\u001b[0m\u001b[1;33m(\u001b[0m\u001b[1;33m*\u001b[0m\u001b[0minput\u001b[0m\u001b[1;33m,\u001b[0m \u001b[1;33m**\u001b[0m\u001b[0mkwargs\u001b[0m\u001b[1;33m)\u001b[0m\u001b[1;33m\u001b[0m\u001b[1;33m\u001b[0m\u001b[0m\n\u001b[0m\u001b[0;32m   1195\u001b[0m         \u001b[1;31m# Do not call functions when jit is used\u001b[0m\u001b[1;33m\u001b[0m\u001b[1;33m\u001b[0m\u001b[0m\n\u001b[0;32m   1196\u001b[0m         \u001b[0mfull_backward_hooks\u001b[0m\u001b[1;33m,\u001b[0m \u001b[0mnon_full_backward_hooks\u001b[0m \u001b[1;33m=\u001b[0m \u001b[1;33m[\u001b[0m\u001b[1;33m]\u001b[0m\u001b[1;33m,\u001b[0m \u001b[1;33m[\u001b[0m\u001b[1;33m]\u001b[0m\u001b[1;33m\u001b[0m\u001b[1;33m\u001b[0m\u001b[0m\n",
      "\u001b[1;32mc:\\Users\\user\\woonho\\voc_cam\\net\\resnet50.py\u001b[0m in \u001b[0;36mforward\u001b[1;34m(self, x)\u001b[0m\n\u001b[0;32m     39\u001b[0m         \u001b[0mout\u001b[0m \u001b[1;33m=\u001b[0m \u001b[0mself\u001b[0m\u001b[1;33m.\u001b[0m\u001b[0mrelu\u001b[0m\u001b[1;33m(\u001b[0m\u001b[0mout\u001b[0m\u001b[1;33m)\u001b[0m\u001b[1;33m\u001b[0m\u001b[1;33m\u001b[0m\u001b[0m\n\u001b[0;32m     40\u001b[0m \u001b[1;33m\u001b[0m\u001b[0m\n\u001b[1;32m---> 41\u001b[1;33m         \u001b[0mout\u001b[0m \u001b[1;33m=\u001b[0m \u001b[0mself\u001b[0m\u001b[1;33m.\u001b[0m\u001b[0mconv2\u001b[0m\u001b[1;33m(\u001b[0m\u001b[0mout\u001b[0m\u001b[1;33m)\u001b[0m\u001b[1;33m\u001b[0m\u001b[1;33m\u001b[0m\u001b[0m\n\u001b[0m\u001b[0;32m     42\u001b[0m         \u001b[0mout\u001b[0m \u001b[1;33m=\u001b[0m \u001b[0mself\u001b[0m\u001b[1;33m.\u001b[0m\u001b[0mbn2\u001b[0m\u001b[1;33m(\u001b[0m\u001b[0mout\u001b[0m\u001b[1;33m)\u001b[0m\u001b[1;33m\u001b[0m\u001b[1;33m\u001b[0m\u001b[0m\n\u001b[0;32m     43\u001b[0m         \u001b[0mout\u001b[0m \u001b[1;33m=\u001b[0m \u001b[0mself\u001b[0m\u001b[1;33m.\u001b[0m\u001b[0mrelu\u001b[0m\u001b[1;33m(\u001b[0m\u001b[0mout\u001b[0m\u001b[1;33m)\u001b[0m\u001b[1;33m\u001b[0m\u001b[1;33m\u001b[0m\u001b[0m\n",
      "\u001b[1;32mc:\\Users\\user\\anaconda3\\lib\\site-packages\\torch\\nn\\modules\\module.py\u001b[0m in \u001b[0;36m_call_impl\u001b[1;34m(self, *input, **kwargs)\u001b[0m\n\u001b[0;32m   1192\u001b[0m         if not (self._backward_hooks or self._forward_hooks or self._forward_pre_hooks or _global_backward_hooks\n\u001b[0;32m   1193\u001b[0m                 or _global_forward_hooks or _global_forward_pre_hooks):\n\u001b[1;32m-> 1194\u001b[1;33m             \u001b[1;32mreturn\u001b[0m \u001b[0mforward_call\u001b[0m\u001b[1;33m(\u001b[0m\u001b[1;33m*\u001b[0m\u001b[0minput\u001b[0m\u001b[1;33m,\u001b[0m \u001b[1;33m**\u001b[0m\u001b[0mkwargs\u001b[0m\u001b[1;33m)\u001b[0m\u001b[1;33m\u001b[0m\u001b[1;33m\u001b[0m\u001b[0m\n\u001b[0m\u001b[0;32m   1195\u001b[0m         \u001b[1;31m# Do not call functions when jit is used\u001b[0m\u001b[1;33m\u001b[0m\u001b[1;33m\u001b[0m\u001b[0m\n\u001b[0;32m   1196\u001b[0m         \u001b[0mfull_backward_hooks\u001b[0m\u001b[1;33m,\u001b[0m \u001b[0mnon_full_backward_hooks\u001b[0m \u001b[1;33m=\u001b[0m \u001b[1;33m[\u001b[0m\u001b[1;33m]\u001b[0m\u001b[1;33m,\u001b[0m \u001b[1;33m[\u001b[0m\u001b[1;33m]\u001b[0m\u001b[1;33m\u001b[0m\u001b[1;33m\u001b[0m\u001b[0m\n",
      "\u001b[1;32mc:\\Users\\user\\anaconda3\\lib\\site-packages\\torch\\nn\\modules\\conv.py\u001b[0m in \u001b[0;36mforward\u001b[1;34m(self, input)\u001b[0m\n\u001b[0;32m    461\u001b[0m \u001b[1;33m\u001b[0m\u001b[0m\n\u001b[0;32m    462\u001b[0m     \u001b[1;32mdef\u001b[0m \u001b[0mforward\u001b[0m\u001b[1;33m(\u001b[0m\u001b[0mself\u001b[0m\u001b[1;33m,\u001b[0m \u001b[0minput\u001b[0m\u001b[1;33m:\u001b[0m \u001b[0mTensor\u001b[0m\u001b[1;33m)\u001b[0m \u001b[1;33m->\u001b[0m \u001b[0mTensor\u001b[0m\u001b[1;33m:\u001b[0m\u001b[1;33m\u001b[0m\u001b[1;33m\u001b[0m\u001b[0m\n\u001b[1;32m--> 463\u001b[1;33m         \u001b[1;32mreturn\u001b[0m \u001b[0mself\u001b[0m\u001b[1;33m.\u001b[0m\u001b[0m_conv_forward\u001b[0m\u001b[1;33m(\u001b[0m\u001b[0minput\u001b[0m\u001b[1;33m,\u001b[0m \u001b[0mself\u001b[0m\u001b[1;33m.\u001b[0m\u001b[0mweight\u001b[0m\u001b[1;33m,\u001b[0m \u001b[0mself\u001b[0m\u001b[1;33m.\u001b[0m\u001b[0mbias\u001b[0m\u001b[1;33m)\u001b[0m\u001b[1;33m\u001b[0m\u001b[1;33m\u001b[0m\u001b[0m\n\u001b[0m\u001b[0;32m    464\u001b[0m \u001b[1;33m\u001b[0m\u001b[0m\n\u001b[0;32m    465\u001b[0m \u001b[1;32mclass\u001b[0m \u001b[0mConv3d\u001b[0m\u001b[1;33m(\u001b[0m\u001b[0m_ConvNd\u001b[0m\u001b[1;33m)\u001b[0m\u001b[1;33m:\u001b[0m\u001b[1;33m\u001b[0m\u001b[1;33m\u001b[0m\u001b[0m\n",
      "\u001b[1;32mc:\\Users\\user\\anaconda3\\lib\\site-packages\\torch\\nn\\modules\\conv.py\u001b[0m in \u001b[0;36m_conv_forward\u001b[1;34m(self, input, weight, bias)\u001b[0m\n\u001b[0;32m    457\u001b[0m                             \u001b[0mweight\u001b[0m\u001b[1;33m,\u001b[0m \u001b[0mbias\u001b[0m\u001b[1;33m,\u001b[0m \u001b[0mself\u001b[0m\u001b[1;33m.\u001b[0m\u001b[0mstride\u001b[0m\u001b[1;33m,\u001b[0m\u001b[1;33m\u001b[0m\u001b[1;33m\u001b[0m\u001b[0m\n\u001b[0;32m    458\u001b[0m                             _pair(0), self.dilation, self.groups)\n\u001b[1;32m--> 459\u001b[1;33m         return F.conv2d(input, weight, bias, self.stride,\n\u001b[0m\u001b[0;32m    460\u001b[0m                         self.padding, self.dilation, self.groups)\n\u001b[0;32m    461\u001b[0m \u001b[1;33m\u001b[0m\u001b[0m\n",
      "\u001b[1;31mKeyboardInterrupt\u001b[0m: "
     ]
    }
   ],
   "source": [
    "for step, pack in enumerate(tqdm(data_loader)):\n",
    "\n",
    "    img = pack['img'].to(device)\n",
    "    label = pack['label'].to(device)\n",
    "    x = model(img)\n",
    "    loss1 = F.multilabel_soft_margin_loss(x, label)\n",
    "    \n",
    "    # avg_meter.add({'loss1': loss1.item()})\n",
    "\n",
    "    optimizer.zero_grad()\n",
    "    loss1.backward()\n",
    "    optimizer.step()\n",
    "    print(loss1)"
   ]
  },
  {
   "cell_type": "code",
   "execution_count": null,
   "metadata": {},
   "outputs": [],
   "source": []
  }
 ],
 "metadata": {
  "kernelspec": {
   "display_name": "ml",
   "language": "python",
   "name": "python3"
  },
  "language_info": {
   "codemirror_mode": {
    "name": "ipython",
    "version": 3
   },
   "file_extension": ".py",
   "mimetype": "text/x-python",
   "name": "python",
   "nbconvert_exporter": "python",
   "pygments_lexer": "ipython3",
   "version": "3.9.13"
  },
  "orig_nbformat": 4
 },
 "nbformat": 4,
 "nbformat_minor": 2
}
