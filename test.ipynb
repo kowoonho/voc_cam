{
 "cells": [
  {
   "cell_type": "code",
   "execution_count": 1,
   "metadata": {},
   "outputs": [],
   "source": [
    "import os\n",
    "from voc12 import my_dataloader\n",
    "from utility import image_util, util\n",
    "from torch.utils.data import DataLoader\n",
    "import torch\n",
    "from misc import imutils\n",
    "import importlib\n",
    "import torch.nn.functional as F\n",
    "import numpy as np\n",
    "import importlib\n",
    "import voc12.dataloader\n",
    "import importlib"
   ]
  },
  {
   "cell_type": "code",
   "execution_count": 2,
   "metadata": {},
   "outputs": [],
   "source": [
    "cam_network = \"net.resnet50_cam\"\n",
    "crop_cam_weights_name = \"../sess/voc_sess/resnet50_crop_cam\"\n",
    "cam_weights_name = \"../sess/voc_sess/resnet50_cam\"\n",
    "trainval_list = \"voc12/val.txt\"\n",
    "voc12_root = \"../Dataset/VOC2012/\"\n",
    "cam_root = \"../irn_result/cam\"\n",
    "cam_scales = (1.0, 0.5, 1.5, 2.0)\n",
    "device = \"cuda:1\""
   ]
  },
  {
   "cell_type": "code",
   "execution_count": 3,
   "metadata": {},
   "outputs": [
    {
     "name": "stderr",
     "output_type": "stream",
     "text": [
      "100%|██████████| 2913/2913 [00:08<00:00, 353.68it/s]\n"
     ]
    }
   ],
   "source": [
    "model = getattr(importlib.import_module(cam_network), 'CAM')()\n",
    "model.load_state_dict(torch.load(crop_cam_weights_name + '.pth'), strict=True)        \n",
    "model.eval()\n",
    "    \n",
    "dataset = my_dataloader.VOC12_CropClassificationDatasetMSF(trainval_list, voc12_root = voc12_root,\n",
    "                                                          cam_root = cam_root, scales=cam_scales)"
   ]
  },
  {
   "cell_type": "code",
   "execution_count": 4,
   "metadata": {},
   "outputs": [],
   "source": [
    "data_loader = DataLoader(dataset)\n",
    "\n",
    "pack = next(iter(data_loader))"
   ]
  },
  {
   "cell_type": "code",
   "execution_count": 5,
   "metadata": {},
   "outputs": [
    {
     "name": "stderr",
     "output_type": "stream",
     "text": [
      "/workspace/voc_cam/misc/imutils.py:177: UserWarning: __floordiv__ is deprecated, and its behavior will change in a future version of pytorch. It currently rounds toward 0 (like the 'trunc' function NOT 'floor'). This results in incorrect rounding for negative values. To keep the current behavior, use torch.div(a, b, rounding_mode='trunc'), or for actual floor division, use torch.div(a, b, rounding_mode='floor').\n",
      "  return ((orig_size[0]-1)//stride+1, (orig_size[1]-1)//stride+1)\n"
     ]
    }
   ],
   "source": [
    "with torch.no_grad():\n",
    "    model = model.to(device)\n",
    "    \n",
    "    img_name = pack['name'][0]\n",
    "    msf = pack['msf_img_list']\n",
    "    org_size = pack['size']\n",
    "    strided_org_size = imutils.get_strided_size(org_size, 4)\n",
    "    \n",
    "    crop_labels = pack['crop_labels']\n",
    "    crop_boxes = pack['crop_boxes']\n",
    "    crop_boxes = [tuple(int(t.item()) for t in crop_box) for crop_box in crop_boxes]\n",
    "    \n",
    "    strided_crop_boxes = image_util.resize_bbox_list(crop_boxes, org_size, strided_org_size)\n",
    "    \n",
    "    cam_list = []\n",
    "    highres_cam_list = []\n",
    "\n",
    "    key = torch.sum(torch.cat(crop_labels, dim=0), dim=0)\n",
    "    key = torch.nonzero(key)[:, 0]\n",
    "    for idx, msf_img in enumerate(msf):\n",
    "        \n",
    "        msf_img = msf[idx]\n",
    "        label = crop_labels[idx][0]\n",
    "        \n",
    "        size = (crop_boxes[idx][3] - crop_boxes[idx][1], crop_boxes[idx][2] - crop_boxes[idx][0])\n",
    "        \n",
    "        strided_size = imutils.get_strided_size(size, 4)\n",
    "        strided_up_size = imutils.get_strided_up_size(size, 16)\n",
    "        \n",
    "        valid_cat = torch.nonzero(label)[:, 0]\n",
    "        \n",
    "        outputs = [model(img[0].to(device)) for img in msf_img]\n",
    "        \n",
    "        strided_cam = torch.sum(torch.stack(\n",
    "        [F.interpolate(torch.unsqueeze(o, 0), strided_size, mode='bilinear', align_corners=False)[0] for o\n",
    "            in outputs]), 0)\n",
    "        \n",
    "        highres_cam = [F.interpolate(torch.unsqueeze(o, 1), strided_up_size,\n",
    "                                    mode='bilinear', align_corners=False) for o in outputs]\n",
    "\n",
    "        \n",
    "        highres_cam = torch.sum(torch.stack(highres_cam, 0), 0)[:, 0, :size[0], :size[1]]\n",
    "        \n",
    "        highres_cam = highres_cam[valid_cat]\n",
    "        highres_cam /= F.adaptive_max_pool2d(highres_cam, (1, 1)) + 1e-5\n",
    "        \n",
    "        strided_cam = strided_cam[valid_cat]\n",
    "        strided_cam /= F.adaptive_max_pool2d(strided_cam, (1, 1)) + 1e-5\n",
    "        \n",
    "        strided_cam = strided_cam[0].cpu().numpy()\n",
    "        highres_cam = highres_cam[0].cpu().numpy()\n",
    "        \n",
    "        strided_cam = image_util.crop_cam_to_org_cam(strided_cam, strided_crop_boxes[idx], strided_org_size)\n",
    "        highres_cam = image_util.crop_cam_to_org_cam(highres_cam, crop_boxes[idx], org_size)\n",
    "\n",
    "        cam_list.append(strided_cam)\n",
    "        highres_cam_list.append(highres_cam)\n",
    "    \n",
    "    cam_stack = np.stack(cam_list)\n",
    "    \n",
    "    cam_stack = torch.from_numpy(cam_stack)\n",
    "    highres_cam_stack = np.stack(highres_cam_list)\n",
    "    \n",
    "\n"
   ]
  },
  {
   "cell_type": "code",
   "execution_count": 6,
   "metadata": {},
   "outputs": [
    {
     "data": {
      "text/plain": [
       "tensor([[[0., 0., 0.,  ..., 0., 0., 0.],\n",
       "         [0., 0., 0.,  ..., 0., 0., 0.],\n",
       "         [0., 0., 0.,  ..., 0., 0., 0.],\n",
       "         ...,\n",
       "         [0., 0., 0.,  ..., 0., 0., 0.],\n",
       "         [0., 0., 0.,  ..., 0., 0., 0.],\n",
       "         [0., 0., 0.,  ..., 0., 0., 0.]],\n",
       "\n",
       "        [[0., 0., 0.,  ..., 0., 0., 0.],\n",
       "         [0., 0., 0.,  ..., 0., 0., 0.],\n",
       "         [0., 0., 0.,  ..., 0., 0., 0.],\n",
       "         ...,\n",
       "         [0., 0., 0.,  ..., 0., 0., 0.],\n",
       "         [0., 0., 0.,  ..., 0., 0., 0.],\n",
       "         [0., 0., 0.,  ..., 0., 0., 0.]]])"
      ]
     },
     "execution_count": 6,
     "metadata": {},
     "output_type": "execute_result"
    },
    {
     "ename": "",
     "evalue": "",
     "output_type": "error",
     "traceback": [
      "\u001b[1;31m현재 셀 또는 이전 셀에서 코드를 실행하는 동안 Kernel이 충돌했습니다. 셀의 코드를 검토하여 오류의 가능한 원인을 식별하세요. 자세한 내용을 보려면 <a href='https://aka.ms/vscodeJupyterKernelCrash'> 여기 </a> 를 클릭하세요. 자세한 내용은 Jupyter <a href='command:jupyter.viewOutput'>로그</a>를 참조하세요."
     ]
    }
   ],
   "source": [
    "cam_stack"
   ]
  },
  {
   "cell_type": "code",
   "execution_count": 32,
   "metadata": {},
   "outputs": [
    {
     "data": {
      "text/plain": [
       "torch.Size([2, 71, 125])"
      ]
     },
     "execution_count": 32,
     "metadata": {},
     "output_type": "execute_result"
    }
   ],
   "source": [
    "cam_stack.shape"
   ]
  },
  {
   "cell_type": "code",
   "execution_count": 17,
   "metadata": {},
   "outputs": [
    {
     "data": {
      "image/png": "[encoded data removed]",
      "text/plain": [
       "<Figure size 432x288 with 2 Axes>"
      ]
     },
     "metadata": {
      "needs_background": "light"
     },
     "output_type": "display_data"
    }
   ],
   "source": [
    "image_util.image_show(highres_cam_stack[0], cam_stack[0], idx=(1,2))\n"
   ]
  },
  {
   "cell_type": "code",
   "execution_count": null,
   "metadata": {},
   "outputs": [
    {
     "name": "stdout",
     "output_type": "stream",
     "text": [
      "[[tensor([52]), tensor([42]), tensor([388]), tensor([214])], [tensor([0]), tensor([133]), tensor([315]), tensor([269])]]\n"
     ]
    }
   ],
   "source": [
    "print(crop_boxes)"
   ]
  },
  {
   "cell_type": "code",
   "execution_count": null,
   "metadata": {},
   "outputs": [
    {
     "name": "stdout",
     "output_type": "stream",
     "text": [
      "(34, 79)\n",
      "(281, 500)\n"
     ]
    },
    {
     "data": {
      "image/png": "[encoded data removed]",
      "text/plain": [
       "<Figure size 432x288 with 2 Axes>"
      ]
     },
     "metadata": {
      "needs_background": "light"
     },
     "output_type": "display_data"
    }
   ],
   "source": [
    "print(strided_cam.shape)\n",
    "print(highres_cam.shape)\n",
    "image_util.image_show(strided_cam, highres_cam, idx =(1,2))"
   ]
  },
  {
   "cell_type": "code",
   "execution_count": null,
   "metadata": {},
   "outputs": [
    {
     "data": {
      "text/plain": [
       "torch.Size([1, 136, 315])"
      ]
     },
     "execution_count": 23,
     "metadata": {},
     "output_type": "execute_result"
    }
   ],
   "source": [
    "temp_cam.shape"
   ]
  },
  {
   "cell_type": "code",
   "execution_count": 20,
   "metadata": {},
   "outputs": [],
   "source": [
    "model = getattr(importlib.import_module(cam_network), 'CAM')()\n",
    "model.load_state_dict(torch.load(cam_weights_name + '.pth'), strict=True)        \n",
    "model.eval()\n",
    "    \n",
    "dataset = voc12.dataloader.VOC12ClassificationDatasetMSF(trainval_list, voc12_root = voc12_root, scales=cam_scales)"
   ]
  },
  {
   "cell_type": "code",
   "execution_count": 21,
   "metadata": {},
   "outputs": [],
   "source": [
    "data_loader = DataLoader(dataset)\n",
    "\n",
    "pack = next(iter(data_loader))"
   ]
  },
  {
   "cell_type": "code",
   "execution_count": 22,
   "metadata": {},
   "outputs": [],
   "source": [
    "with torch.no_grad():\n",
    "    model = model.to(device)\n",
    "\n",
    "\n",
    "    img_name = pack['name'][0]\n",
    "    label = pack['label'][0]\n",
    "    size = pack['size']\n",
    "    image = pack['img'] # 4 MSF images [2, 3, w, h]\n",
    "    strided_size = imutils.get_strided_size(size, 4)\n",
    "    strided_up_size = imutils.get_strided_up_size(size, 16)\n",
    "    \n",
    "    outputs = [model(img[0].to(device))\n",
    "                for img in pack['img']]\n",
    "    \n",
    "    \n",
    "    strided_cam = torch.sum(torch.stack(\n",
    "        [F.interpolate(torch.unsqueeze(o, 0), strided_size, mode='bilinear', align_corners=False)[0] for o\n",
    "            in outputs]), 0)\n",
    "\n",
    "\n",
    "    highres_cam = [F.interpolate(torch.unsqueeze(o, 1), strided_up_size,\n",
    "                                    mode='bilinear', align_corners=False) for o in outputs]\n",
    "    highres_cam = torch.sum(torch.stack(highres_cam, 0), 0)[:, 0, :size[0], :size[1]]\n",
    "\n",
    "    valid_cat = torch.nonzero(label)[:, 0]\n",
    "\n",
    "    strided_cam = strided_cam[valid_cat]\n",
    "    strided_cam /= F.adaptive_max_pool2d(strided_cam, (1, 1)) + 1e-5\n",
    "\n",
    "    highres_cam = highres_cam[valid_cat]\n",
    "    highres_cam /= F.adaptive_max_pool2d(highres_cam, (1, 1)) + 1e-5"
   ]
  },
  {
   "cell_type": "code",
   "execution_count": 24,
   "metadata": {},
   "outputs": [
    {
     "data": {
      "text/plain": [
       "torch.Size([2, 71, 125])"
      ]
     },
     "execution_count": 24,
     "metadata": {},
     "output_type": "execute_result"
    }
   ],
   "source": [
    "strided_cam.cpu().shape"
   ]
  },
  {
   "cell_type": "code",
   "execution_count": null,
   "metadata": {},
   "outputs": [
    {
     "data": {
      "text/plain": [
       "[[tensor([52]), tensor([42]), tensor([388]), tensor([214])],\n",
       " [tensor([0]), tensor([133]), tensor([315]), tensor([269])]]"
      ]
     },
     "execution_count": 12,
     "metadata": {},
     "output_type": "execute_result"
    }
   ],
   "source": [
    "crop_boxes"
   ]
  },
  {
   "cell_type": "code",
   "execution_count": null,
   "metadata": {},
   "outputs": [
    {
     "name": "stdout",
     "output_type": "stream",
     "text": [
      "(0, 33, 79, 67)\n"
     ]
    }
   ],
   "source": [
    "def resize_bbox(bbox, original_img_size, new_img_size):\n",
    "\n",
    "    x1, y1, x2, y2 = bbox\n",
    "    original_width, original_height = original_img_size\n",
    "    new_width, new_height = new_img_size\n",
    "\n",
    "    # Calculate the ratio of old size to new size\n",
    "    width_ratio = new_width / original_width\n",
    "    height_ratio = new_height / original_height\n",
    "\n",
    "    # Resize the bounding box coordinates\n",
    "    x1_new = int(x1 * width_ratio)\n",
    "    y1_new = int(y1 * height_ratio)\n",
    "    x2_new = int(x2 * width_ratio)\n",
    "    y2_new = int(y2 * height_ratio)\n",
    "\n",
    "    return (x1_new, y1_new, x2_new, y2_new)\n",
    "\n",
    "# 예시\n",
    "original_bbox = (0, 133, 315, 269)\n",
    "original_img_size = (281, 500)\n",
    "new_img_size = (71, 125)\n",
    "\n",
    "resized_bbox = resize_bbox(original_bbox, original_img_size, new_img_size)\n",
    "print(resized_bbox)  # 출력: (16, 25, 119, 66)"
   ]
  },
  {
   "cell_type": "code",
   "execution_count": null,
   "metadata": {},
   "outputs": [],
   "source": [
    "resized_bbox = image_util.resize_bbox_list(crop_boxes, (281, 500), (71, 125))"
   ]
  },
  {
   "cell_type": "code",
   "execution_count": null,
   "metadata": {},
   "outputs": [
    {
     "data": {
      "text/plain": [
       "[(13, 10, 98, 53), (0, 33, 79, 67)]"
      ]
     },
     "execution_count": 15,
     "metadata": {},
     "output_type": "execute_result"
    }
   ],
   "source": [
    "resized_bbox"
   ]
  },
  {
   "cell_type": "code",
   "execution_count": null,
   "metadata": {},
   "outputs": [],
   "source": []
  }
 ],
 "metadata": {
  "kernelspec": {
   "display_name": "base",
   "language": "python",
   "name": "python3"
  },
  "language_info": {
   "codemirror_mode": {
    "name": "ipython",
    "version": 3
   },
   "file_extension": ".py",
   "mimetype": "text/x-python",
   "name": "python",
   "nbconvert_exporter": "python",
   "pygments_lexer": "ipython3",
   "version": "3.8.12"
  },
  "orig_nbformat": 4
 },
 "nbformat": 4,
 "nbformat_minor": 2
}
