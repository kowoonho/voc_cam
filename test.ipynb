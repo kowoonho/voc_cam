{
 "cells": [
  {
   "cell_type": "code",
   "execution_count": 1,
   "metadata": {},
   "outputs": [],
   "source": [
    "import torch\n",
    "from utility import image_util\n",
    "import os\n",
    "from voc12 import my_dataloader\n",
    "from torch.utils.data import DataLoader\n",
    "from misc import imutils\n",
    "import numpy as np\n",
    "import importlib"
   ]
  },
  {
   "cell_type": "code",
   "execution_count": 2,
   "metadata": {},
   "outputs": [],
   "source": [
    "img_name_list_path = \"voc12/val.txt\"\n",
    "voc12_root = \"../Dataset/VOC2012/\"\n",
    "cam_root = \"../irn_result/cam\"\n",
    "depth_root = \"../result/depth_img/\"\n",
    "img_root = \"../Dataset/VOC2012/JPEGImages/\"\n",
    "\n",
    "sem_seg_root = \"../irn_result/sem_seg\"\n",
    "depth_sem_seg_root = \"../irn_result/depth_crop_sem_seg/\"\n",
    "gt_root = \"../Dataset/VOC2012/SegmentationClass\"\n"
   ]
  },
  {
   "cell_type": "code",
   "execution_count": 70,
   "metadata": {},
   "outputs": [],
   "source": [
    "img_name_list = my_dataloader.load_img_id_list(img_name_list_path)\n",
    "\n",
    "idx = 1031\n",
    "name = img_name_list[idx]\n",
    "cam_dict = np.load(os.path.join(cam_root, name +\".npy\"), allow_pickle=True).item()\n",
    "cams = cam_dict['high_res']\n",
    "org_img = image_util.read_image(os.path.join(img_root, name + \".jpg\"))\n",
    "seg_img = image_util.read_image(os.path.join(sem_seg_root, name + \".png\"))\n",
    "gt_img = image_util.read_image(os.path.join(gt_root, name + \".png\"))\n",
    "depth_seg_img = image_util.read_image(os.path.join(depth_sem_seg_root, name + \".png\"))\n"
   ]
  },
  {
   "cell_type": "code",
   "execution_count": 71,
   "metadata": {},
   "outputs": [
    {
     "data": {
      "image/png": "[encoded data removed]",
      "text/plain": [
       "<Figure size 640x480 with 3 Axes>"
      ]
     },
     "metadata": {},
     "output_type": "display_data"
    }
   ],
   "source": [
    "seg_img = image_util.random_color_mask(seg_img)\n",
    "gt_img = image_util.random_color_mask(gt_img)\n",
    "depth_seg_img = image_util.random_color_mask(depth_seg_img)\n",
    "\n",
    "image_util.image_show(seg_img, gt_img, depth_seg_img, idx = (2, 2))\n"
   ]
  },
  {
   "cell_type": "code",
   "execution_count": null,
   "metadata": {},
   "outputs": [],
   "source": []
  },
  {
   "cell_type": "code",
   "execution_count": null,
   "metadata": {},
   "outputs": [],
   "source": []
  }
 ],
 "metadata": {
  "kernelspec": {
   "display_name": "base",
   "language": "python",
   "name": "python3"
  },
  "language_info": {
   "codemirror_mode": {
    "name": "ipython",
    "version": 3
   },
   "file_extension": ".py",
   "mimetype": "text/x-python",
   "name": "python",
   "nbconvert_exporter": "python",
   "pygments_lexer": "ipython3",
   "version": "3.8.12"
  },
  "orig_nbformat": 4
 },
 "nbformat": 4,
 "nbformat_minor": 2
}
