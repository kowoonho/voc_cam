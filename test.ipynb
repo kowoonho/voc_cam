{
 "cells": [
  {
   "cell_type": "code",
   "execution_count": null,
   "metadata": {},
   "outputs": [],
   "source": [
    "import os\n",
    "from voc12 import my_dataloader\n",
    "from utility import image_util, util\n",
    "from torch.utils.data import DataLoader\n",
    "import torch\n",
    "from misc import imutils\n",
    "import importlib\n",
    "import torch.nn.functional as F\n",
    "import numpy as np"
   ]
  },
  {
   "cell_type": "code",
   "execution_count": null,
   "metadata": {},
   "outputs": [],
   "source": [
    "img_path = \"voc12/val.txt\"\n",
    "voc_root = \"../Dataset/VOC2012/\"\n",
    "cam_root = \"../irn_result/cam/\""
   ]
  },
  {
   "cell_type": "code",
   "execution_count": null,
   "metadata": {},
   "outputs": [],
   "source": [
    "dataset = my_dataloader.VOC12_CropClassificationDatasetMSF(img_path, voc_root, cam_root, scales = (1.0, 1.5, 0.5, 2.0))"
   ]
  },
  {
   "cell_type": "code",
   "execution_count": null,
   "metadata": {},
   "outputs": [],
   "source": [
    "data_loader = DataLoader(dataset)"
   ]
  },
  {
   "cell_type": "code",
   "execution_count": null,
   "metadata": {},
   "outputs": [],
   "source": [
    "data = next(iter(data_loader))"
   ]
  },
  {
   "cell_type": "code",
   "execution_count": null,
   "metadata": {},
   "outputs": [],
   "source": [
    "msf = data['msf_img_list']\n",
    "crop_boxes = data['crop_boxes']\n",
    "crop_labels = data['crop_labels']\n",
    "cams = data['cams']"
   ]
  },
  {
   "cell_type": "code",
   "execution_count": null,
   "metadata": {},
   "outputs": [],
   "source": [
    "crop_boxes[0]"
   ]
  },
  {
   "cell_type": "code",
   "execution_count": null,
   "metadata": {},
   "outputs": [],
   "source": [
    "model = getattr(importlib.import_module(\"net.resnet50_cam\"), 'CAM')()\n",
    "\n",
    "model.load_state_dict(torch.load(\"../sess/voc_sess/resnet50_crop_cam\" + '.pth'), strict=True)\n",
    "        \n",
    "model.eval()\n",
    "model = model.to('cuda:0')\n",
    "device = 'cuda:0'"
   ]
  },
  {
   "cell_type": "code",
   "execution_count": null,
   "metadata": {},
   "outputs": [],
   "source": [
    "img_name = data['name']\n",
    "msf = data['msf_img_list']\n",
    "org_size = data['img'].shape[1:]\n",
    "\n",
    "crop_labels = data['crop_labels']\n",
    "crop_boxes = data['crop_boxes']\n",
    "\n",
    "cam_list = []\n",
    "\n",
    "key = torch.sum(torch.cat(crop_labels, dim=0), dim=0)\n",
    "key = torch.nonzero(key)[:, 0]\n",
    "with torch.no_grad():\n",
    "    for idx, msf_img in enumerate(msf):\n",
    "        \n",
    "        msf_img = msf[idx]\n",
    "        label = crop_labels[idx][0]\n",
    "        \n",
    "        size = (crop_boxes[idx][3] - crop_boxes[idx][1], crop_boxes[idx][2] - crop_boxes[idx][0])\n",
    "        \n",
    "        strided_up_size = imutils.get_strided_up_size(size, 16)\n",
    "        \n",
    "        valid_cat = torch.nonzero(label)[:, 0]\n",
    "        \n",
    "        outputs = [model(img[0].to(device)) for img in msf_img]\n",
    "        \n",
    "        highres_cam = [F.interpolate(torch.unsqueeze(o, 1), strided_up_size,\n",
    "                                    mode='bilinear', align_corners=False) for o in outputs]\n",
    "\n",
    "        \n",
    "        highres_cam = torch.sum(torch.stack(highres_cam, 0), 0)[:, 0, :size[0], :size[1]]\n",
    "        \n",
    "        highres_cam = highres_cam[valid_cat]\n",
    "        highres_cam /= F.adaptive_max_pool2d(highres_cam, (1, 1)) + 1e-5\n",
    "        highres_cam = highres_cam[0].cpu().numpy()\n",
    "        highres_cam = image_util.crop_cam_to_org_cam(highres_cam, crop_boxes[idx], org_size)\n",
    "        \n",
    "        cam_list.append(highres_cam)\n",
    "        \n",
    "    cam_stack = np.stack(cam_list)\n",
    "\n",
    "        \n",
    "        \n",
    "        "
   ]
  },
  {
   "cell_type": "code",
   "execution_count": null,
   "metadata": {},
   "outputs": [],
   "source": [
    "np_cams = np.array(cams[0])\n",
    "np_cams.shape\n",
    "\n",
    "image_util.image_show(cam_stack[1], np_cams[1], idx=(1,2))\n"
   ]
  },
  {
   "cell_type": "code",
   "execution_count": null,
   "metadata": {},
   "outputs": [],
   "source": [
    "np.save(\"temp.npy\", {'keys' : key, 'cams':cam_stack})"
   ]
  },
  {
   "cell_type": "code",
   "execution_count": null,
   "metadata": {},
   "outputs": [],
   "source": [
    "print(img_name)"
   ]
  },
  {
   "cell_type": "code",
   "execution_count": null,
   "metadata": {},
   "outputs": [],
   "source": []
  }
 ],
 "metadata": {
  "kernelspec": {
   "display_name": "base",
   "language": "python",
   "name": "python3"
  },
  "language_info": {
   "codemirror_mode": {
    "name": "ipython",
    "version": 3
   },
   "file_extension": ".py",
   "mimetype": "text/x-python",
   "name": "python",
   "nbconvert_exporter": "python",
   "pygments_lexer": "ipython3",
   "version": "3.8.12"
  },
  "orig_nbformat": 4
 },
 "nbformat": 4,
 "nbformat_minor": 2
}
